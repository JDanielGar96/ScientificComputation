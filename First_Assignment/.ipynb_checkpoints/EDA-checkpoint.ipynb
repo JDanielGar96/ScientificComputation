{
 "cells": [
  {
   "cell_type": "code",
   "execution_count": 3,
   "id": "a5f615f6",
   "metadata": {},
   "outputs": [],
   "source": [
    "import numpy as np\n",
    "import pandas as pd\n",
    "import unicodedata"
   ]
  },
  {
   "cell_type": "code",
   "execution_count": 4,
   "id": "947087e7",
   "metadata": {},
   "outputs": [
    {
     "name": "stdout",
     "output_type": "stream",
     "text": [
      "EDA.ipynb\r\n",
      "Homicidios_accidente_de_tr_nsito_Polic_a_Nacional.csv\r\n",
      "Readme.md\r\n",
      "Reporte_Delito_Violencia_Intrafamiliar_Polic_a_Nacional.csv\r\n",
      "Reporte__Delitos_sexuales_Polic_a_Nacional.csv\r\n",
      "poblacion_colombia_2018.csv\r\n"
     ]
    }
   ],
   "source": [
    "%ls"
   ]
  },
  {
   "cell_type": "code",
   "execution_count": 5,
   "id": "0c3d72ab",
   "metadata": {
    "scrolled": false
   },
   "outputs": [
    {
     "name": "stderr",
     "output_type": "stream",
     "text": [
      "/var/folders/9r/j_191mrd3gs489ycgpr58pqc0000gn/T/ipykernel_58977/2742612490.py:2: DtypeWarning: Columns (2) have mixed types. Specify dtype option on import or set low_memory=False.\n",
      "  intrafamiliar_violence = pd.read_csv('Reporte_Delito_Violencia_Intrafamiliar_Polic_a_Nacional.csv').drop_duplicates()\n"
     ]
    }
   ],
   "source": [
    "murders = pd.read_csv('Homicidios_accidente_de_tr_nsito_Polic_a_Nacional.csv').drop_duplicates()\n",
    "intrafamiliar_violence = pd.read_csv('Reporte_Delito_Violencia_Intrafamiliar_Polic_a_Nacional.csv').drop_duplicates()\n",
    "sexual_crimes = pd.read_csv('Reporte__Delitos_sexuales_Polic_a_Nacional.csv').drop_duplicates()\n"
   ]
  },
  {
   "cell_type": "code",
   "execution_count": 6,
   "id": "d05a6b13",
   "metadata": {},
   "outputs": [],
   "source": [
    "\n",
    "def get_affected_states_on_last_year(dataframe, top_3=True):\n",
    "    dataframe['AÑO'] = dataframe['FECHA HECHO'].apply(lambda x: x.split('/')[2])\n",
    "    last_year = np.sort(dataframe['AÑO'].unique())[-1]\n",
    "    result = dataframe[dataframe['AÑO'] == last_year]['DEPARTAMENTO'].value_counts()\n",
    "    if top_3:\n",
    "        return result.iloc[:3]\n",
    "    return result\n",
    "\n",
    "\n",
    "def get_affected_states_historicaly(dataframe, top_3=True):\n",
    "    result = dataframe['DEPARTAMENTO'].value_counts()\n",
    "    if top_3:\n",
    "        return result.iloc[:3]\n",
    "    return result\n",
    "\n",
    "\n",
    "def get_common_historically_weapon(dataframe):\n",
    "    result = dataframe['ARMAS MEDIOS'].value_counts().iloc[:1]\n",
    "    return result\n",
    "\n",
    "\n",
    "def get_genre_values(dataframe):\n",
    "    result = dataframe['GENERO'].value_counts()\n",
    "    return pd.DataFrame(result)\n",
    "\n",
    "def get_age_values(dataframe):\n",
    "    result = (\n",
    "        dataframe['GRUPO ETARÍO'] if dataframe.get('GRUPO ETARÍO') is not None else dataframe.get('GRUPO ETARIO')\n",
    "    ).value_counts()\n",
    "    return pd.DataFrame(result)\n",
    "\n",
    "def get_genre_variation(dataframe):\n",
    "    dataframe['AÑO'] = dataframe['FECHA HECHO'].apply(lambda x: x.split('/')[2])\n",
    "    count_by_year_and_genre = dataframe.groupby(by=['GENERO','AÑO']).count().reset_index().loc[:, ['GENERO', 'AÑO', 'CANTIDAD']]\n",
    "    std_by_year = count_by_year_and_genre.groupby(by='GENERO').std()\n",
    "    return std_by_year[~std_by_year['CANTIDAD'].isna()]\n",
    "\n",
    "def get_age_variation(dataframe):\n",
    "    dataframe['AÑO'] = dataframe['FECHA HECHO'].apply(lambda x: x.split('/')[2])\n",
    "    group_index = 'GRUPO ETARIO' if dataframe.get('GRUPO ETARIO') is not None else 'GRUPO ETARÍO'\n",
    "    count_by_year_and_genre = dataframe.groupby(by=[group_index, 'AÑO']).count().reset_index().loc[:, [group_index, 'AÑO', 'CANTIDAD']]\n",
    "    std_by_year = count_by_year_and_genre.groupby(by=group_index).std()\n",
    "    return std_by_year[~std_by_year['CANTIDAD'].isna()]\n",
    "\n",
    "def get_month_proportion(dataframe):\n",
    "    dataframe['MES'] = dataframe['FECHA HECHO'].apply(lambda x: x.split('/')[1])\n",
    "    return dataframe.groupby(by='MES').count()['CANTIDAD']\n"
   ]
  },
  {
   "cell_type": "markdown",
   "id": "9882dd33",
   "metadata": {},
   "source": [
    "### Departamentos más afectados a nivel historico y en el ultimo año"
   ]
  },
  {
   "cell_type": "code",
   "execution_count": 7,
   "id": "96fff831",
   "metadata": {},
   "outputs": [
    {
     "name": "stdout",
     "output_type": "stream",
     "text": [
      "Homicidios por accidente de transito según el departamento\n",
      "Historicamente: CUNDINAMARCA    8745\n",
      "ANTIOQUIA       7459\n",
      "VALLE           7456\n",
      "Name: DEPARTAMENTO, dtype: int64\n",
      "Ultimo año: ANTIOQUIA       1034\n",
      "CUNDINAMARCA     876\n",
      "VALLE            603\n",
      "Name: DEPARTAMENTO, dtype: int64\n"
     ]
    }
   ],
   "source": [
    "print('Homicidios por accidente de transito según el departamento')\n",
    "print('Historicamente:', get_affected_states_historicaly(murders))\n",
    "print('Ultimo año:', get_affected_states_on_last_year(murders))"
   ]
  },
  {
   "cell_type": "code",
   "execution_count": 8,
   "id": "ef8ec235",
   "metadata": {},
   "outputs": [
    {
     "name": "stdout",
     "output_type": "stream",
     "text": [
      "Violencia intrafamiliar según el departamento\n",
      "Historicamente: CUNDINAMARCA    70193\n",
      "ANTIOQUIA       53609\n",
      "VALLE           44388\n",
      "Name: DEPARTAMENTO, dtype: int64\n",
      "Ultimo año: CUNDINAMARCA    8826\n",
      "ANTIOQUIA       7512\n",
      "VALLE           4866\n",
      "Name: DEPARTAMENTO, dtype: int64\n"
     ]
    }
   ],
   "source": [
    "print('Violencia intrafamiliar según el departamento')\n",
    "print('Historicamente:', get_affected_states_historicaly(intrafamiliar_violence))\n",
    "print('Ultimo año:', get_affected_states_on_last_year(intrafamiliar_violence))"
   ]
  },
  {
   "cell_type": "code",
   "execution_count": 9,
   "id": "20b5ec20",
   "metadata": {},
   "outputs": [
    {
     "name": "stdout",
     "output_type": "stream",
     "text": [
      "Crimenes sexuales según el departamento\n",
      "Historicamente: CUNDINAMARCA    39007\n",
      "ANTIOQUIA       26782\n",
      "VALLE           24242\n",
      "Name: DEPARTAMENTO, dtype: int64\n",
      "Ultimo año: CUNDINAMARCA    5204\n",
      "ANTIOQUIA       3744\n",
      "VALLE           2230\n",
      "Name: DEPARTAMENTO, dtype: int64\n"
     ]
    }
   ],
   "source": [
    "print('Crimenes sexuales según el departamento')\n",
    "print('Historicamente:', get_affected_states_historicaly(sexual_crimes))\n",
    "print('Ultimo año:', get_affected_states_on_last_year(sexual_crimes))"
   ]
  },
  {
   "cell_type": "markdown",
   "id": "d1eb696b",
   "metadata": {},
   "source": [
    "### Arma o medio más común"
   ]
  },
  {
   "cell_type": "code",
   "execution_count": 10,
   "id": "747f1d64",
   "metadata": {},
   "outputs": [
    {
     "name": "stdout",
     "output_type": "stream",
     "text": [
      "Homicidios por accidente de transito medio común\n",
      "Historicamente: VEHICULO    33674\n",
      "Name: ARMAS MEDIOS, dtype: int64\n"
     ]
    }
   ],
   "source": [
    "print('Homicidios por accidente de transito medio común')\n",
    "print('Historicamente:', get_common_historically_weapon(murders))"
   ]
  },
  {
   "cell_type": "code",
   "execution_count": 11,
   "id": "f8bb4690",
   "metadata": {},
   "outputs": [
    {
     "name": "stdout",
     "output_type": "stream",
     "text": [
      "Violencia intrafamiliar medio común\n",
      "Historicamente: CONTUNDENTES    238927\n",
      "Name: ARMAS MEDIOS, dtype: int64\n"
     ]
    }
   ],
   "source": [
    "print('Violencia intrafamiliar medio común')\n",
    "print('Historicamente:', get_common_historically_weapon(intrafamiliar_violence))"
   ]
  },
  {
   "cell_type": "code",
   "execution_count": 12,
   "id": "512e3af8",
   "metadata": {},
   "outputs": [
    {
     "name": "stdout",
     "output_type": "stream",
     "text": [
      "Crimenes sexuales medio común\n",
      "Historicamente: SIN EMPLEO DE ARMAS    108905\n",
      "Name: ARMAS MEDIOS, dtype: int64\n"
     ]
    }
   ],
   "source": [
    "print('Crimenes sexuales medio común')\n",
    "print('Historicamente:', get_common_historically_weapon(sexual_crimes))"
   ]
  },
  {
   "cell_type": "markdown",
   "id": "cedabd88",
   "metadata": {},
   "source": [
    "### 3. Proporción de géneros y grupos etaríos"
   ]
  },
  {
   "cell_type": "markdown",
   "id": "8569ed65",
   "metadata": {},
   "source": [
    "- Para homicidios por accidente de transito, cabe recalcar que el genero Femenino tiene menos variacion , y el grupo etarío con más variación es el de los adultos.\n",
    "\n",
    "- Para violencia intrafamiliar, el genero Femenino es el que más tiene variacion y proporcion en los datos, el grupo etarío tambien es el de los adultos.\n",
    "\n",
    "- Para crimenes sexuales, el genero Femenino es el que más tiene proporción en los datos, y el grupo etarío con más varianza es el de los niños, asi como la mayor proporción."
   ]
  },
  {
   "cell_type": "code",
   "execution_count": 13,
   "id": "a77aff5b",
   "metadata": {
    "scrolled": false
   },
   "outputs": [
    {
     "name": "stdout",
     "output_type": "stream",
     "text": [
      "\n",
      "Homicidios por accidente de transito\n",
      "\n",
      "Proporción Genero\n",
      "            GENERO\n",
      "MASCULINO    45784\n",
      "FEMENINO     11893\n",
      "NO REPORTA      15\n",
      "\n",
      "\n",
      "Variación Genero\n",
      "              CANTIDAD\n",
      "GENERO                \n",
      "FEMENINO    136.571965\n",
      "MASCULINO   615.365720\n",
      "NO REPORTA    1.000000\n",
      "\n",
      "\n",
      "Proporción Etarío\n",
      "              GRUPO ETARÍO\n",
      "ADULTOS              52739\n",
      "ADOLESCENTES          2842\n",
      "MENORES               2111\n",
      "\n",
      "\n",
      "Variación Etarío\n",
      "                CANTIDAD\n",
      "GRUPO ETARÍO            \n",
      "ADOLESCENTES   31.939811\n",
      "ADULTOS       727.208668\n",
      "MENORES        32.038211\n",
      "\n",
      "\n",
      "\n",
      "---------------------\n",
      "\n",
      "Violencia intrafamiliar\n",
      "\n",
      "\n",
      "Proporción Genero\n",
      "              GENERO\n",
      "FEMENINO      352390\n",
      "MASCULINO     110918\n",
      "NO REPORTA       294\n",
      "NO REPORTADO      33\n",
      "-                  7\n",
      "\n",
      "\n",
      "Variación Genero\n",
      "                CANTIDAD\n",
      "GENERO                  \n",
      "FEMENINO    12044.514027\n",
      "MASCULINO    4265.321704\n",
      "NO REPORTA     23.968730\n",
      "\n",
      "\n",
      "Proporción Etarío\n",
      "              GRUPO ETARIO\n",
      "ADULTOS             405002\n",
      "ADOLESCENTES         30194\n",
      "MENORES              26803\n",
      "NO REPORTA             274\n",
      "NO REPORTADO            34\n",
      "\n",
      "\n",
      "Variación Etarío\n",
      "                  CANTIDAD\n",
      "GRUPO ETARIO              \n",
      "ADOLESCENTES   1142.723687\n",
      "ADULTOS       13595.552032\n",
      "MENORES        1579.283178\n",
      "NO REPORTA       24.824943\n",
      "NO REPORTADO     22.627417\n",
      "\n",
      "---------------------\n",
      "\n",
      "Crimenes sexuales\n",
      "\n",
      "\n",
      "Proporción Genero\n",
      "            GENERO\n",
      "FEMENINO    198887\n",
      "MASCULINO    33919\n",
      "NO REPORTA     645\n",
      "-                2\n",
      "\n",
      "\n",
      "Variación Genero\n",
      "               CANTIDAD\n",
      "GENERO                 \n",
      "FEMENINO    8120.604080\n",
      "MASCULINO   1421.221783\n",
      "NO REPORTA   198.516246\n",
      "\n",
      "\n",
      "Proporción Etarío\n",
      "              GRUPO ETARIO\n",
      "MENORES             113367\n",
      "ADULTOS              74101\n",
      "ADOLECENTES          37652\n",
      "ADOLESCENTES          8069\n",
      "NO REPORTA              42\n",
      "\n",
      "\n",
      "Variación Etarío\n",
      "                 CANTIDAD\n",
      "GRUPO ETARIO             \n",
      "ADOLECENTES   1661.683692\n",
      "ADULTOS       3169.352514\n",
      "MENORES       4690.864645\n",
      "\n"
     ]
    }
   ],
   "source": [
    "print(\n",
    "f\"\"\"\n",
    "Homicidios por accidente de transito\n",
    "\n",
    "Proporción Genero\n",
    "{get_genre_values(murders)}\n",
    "\n",
    "\n",
    "Variación Genero\n",
    "{get_genre_variation(murders)}\n",
    "\n",
    "\n",
    "Proporción Etarío\n",
    "{get_age_values(murders)}\n",
    "\n",
    "\n",
    "Variación Etarío\n",
    "{get_age_variation(murders)}\n",
    "\n",
    "\n",
    "\"\"\")\n",
    "\n",
    "print('---------------------')\n",
    "\n",
    "print(\n",
    "f\"\"\"\n",
    "Violencia intrafamiliar\n",
    "\n",
    "\n",
    "Proporción Genero\n",
    "{get_genre_values(intrafamiliar_violence)}\n",
    "\n",
    "\n",
    "Variación Genero\n",
    "{get_genre_variation(intrafamiliar_violence)}\n",
    "\n",
    "\n",
    "Proporción Etarío\n",
    "{get_age_values(intrafamiliar_violence)}\n",
    "\n",
    "\n",
    "Variación Etarío\n",
    "{get_age_variation(intrafamiliar_violence)}\n",
    "\"\"\")\n",
    "\n",
    "print('---------------------')\n",
    "\n",
    "print(\n",
    "f\"\"\"\n",
    "Crimenes sexuales\n",
    "\n",
    "\n",
    "Proporción Genero\n",
    "{get_genre_values(sexual_crimes)}\n",
    "\n",
    "\n",
    "Variación Genero\n",
    "{get_genre_variation(sexual_crimes)}\n",
    "\n",
    "\n",
    "Proporción Etarío\n",
    "{get_age_values(sexual_crimes)}\n",
    "\n",
    "\n",
    "Variación Etarío\n",
    "{get_age_variation(sexual_crimes)}\n",
    "\"\"\")"
   ]
  },
  {
   "cell_type": "markdown",
   "id": "226b3677",
   "metadata": {},
   "source": [
    "### Proporción por mes"
   ]
  },
  {
   "cell_type": "code",
   "execution_count": 14,
   "id": "72a94230",
   "metadata": {
    "scrolled": false
   },
   "outputs": [
    {
     "name": "stdout",
     "output_type": "stream",
     "text": [
      "MES\n",
      "01    4939\n",
      "02    4573\n",
      "03    4793\n",
      "04    4307\n",
      "05    4536\n",
      "06    4743\n",
      "07    4845\n",
      "08    4767\n",
      "09    4791\n",
      "10    5121\n",
      "11    4819\n",
      "12    5500\n",
      "Name: CANTIDAD, dtype: int64\n",
      "MES\n",
      "01    39936\n",
      "02    39528\n",
      "03    41090\n",
      "04    38432\n",
      "05    41597\n",
      "06    38257\n",
      "07    38991\n",
      "08    40024\n",
      "09    40026\n",
      "10    38240\n",
      "11    35378\n",
      "12    32143\n",
      "Name: CANTIDAD, dtype: int64\n",
      "MES\n",
      "01    20245\n",
      "02    19829\n",
      "03    20648\n",
      "04    19190\n",
      "05    20866\n",
      "06    19136\n",
      "07    20053\n",
      "08    21094\n",
      "09    20600\n",
      "10    19851\n",
      "11    17670\n",
      "12    14569\n",
      "Name: CANTIDAD, dtype: int64\n"
     ]
    }
   ],
   "source": [
    "print(get_month_proportion(murders))\n",
    "print(get_month_proportion(intrafamiliar_violence))\n",
    "print(get_month_proportion(sexual_crimes))"
   ]
  },
  {
   "cell_type": "markdown",
   "id": "42ebea89",
   "metadata": {},
   "source": [
    "### Proporción descripciones o delito"
   ]
  },
  {
   "cell_type": "code",
   "execution_count": 15,
   "id": "25533ef6",
   "metadata": {},
   "outputs": [
    {
     "name": "stdout",
     "output_type": "stream",
     "text": [
      "Homicidios por accidente de transito\n"
     ]
    },
    {
     "data": {
      "text/plain": [
       "ARTÍCULO 109. HOMICIDIO CULPOSO ( EN ACCIDENTE DE TRÁNSITO)        57724\n",
       "ARTÍCULO 110. HOMICIDIO CULPOSO ( CIRCUNSTANCIAS DE AGRAVACIÓN)       10\n",
       "Name: DESCRIPCIÓN CONDUCTA, dtype: int64"
      ]
     },
     "execution_count": 15,
     "metadata": {},
     "output_type": "execute_result"
    }
   ],
   "source": [
    "print('Homicidios por accidente de transito')\n",
    "murders['DESCRIPCIÓN CONDUCTA'].value_counts()"
   ]
  },
  {
   "cell_type": "code",
   "execution_count": 16,
   "id": "927c234d",
   "metadata": {},
   "outputs": [
    {
     "name": "stdout",
     "output_type": "stream",
     "text": [
      "Crimenes sexuales\n"
     ]
    },
    {
     "data": {
      "text/plain": [
       "ARTÍCULO 209. ACTOS SEXUALES CON MENOR DE 14 AÑOS           0.321308\n",
       "ARTÍCULO 208. ACCESO CARNAL ABUSIVO CON MENOR DE 14 AÑOS    0.228876\n",
       "ARTÍCULO 205. ACCESO CARNAL VIOLENTO                        0.157822\n",
       "ARTÍCULO 206. ACTO SEXUAL VIOLENTO                          0.108924\n",
       "ARTÍCULO 210 A. ACOSO SEXUAL                                0.064064\n",
       "Name: delito, dtype: float64"
      ]
     },
     "execution_count": 16,
     "metadata": {},
     "output_type": "execute_result"
    }
   ],
   "source": [
    "print('Crimenes sexuales')\n",
    "(sexual_crimes['delito'].value_counts() / sexual_crimes['delito'].value_counts().sum()).head()"
   ]
  },
  {
   "cell_type": "markdown",
   "id": "9befa692",
   "metadata": {},
   "source": [
    "### Bono"
   ]
  },
  {
   "cell_type": "code",
   "execution_count": 17,
   "id": "64ecf67f",
   "metadata": {},
   "outputs": [],
   "source": [
    "sample_population = pd.read_csv('poblacion_colombia_2018.csv', delimiter=';').drop_duplicates()"
   ]
  },
  {
   "cell_type": "code",
   "execution_count": 18,
   "id": "cd3242ad",
   "metadata": {},
   "outputs": [],
   "source": [
    "def normalize_and_capitalize(text):\n",
    "    return unicodedata.normalize('NFD', text).encode('ascii', 'ignore').decode(\"utf-8\").upper()\n",
    "\n",
    "# Columns of sample poblation to upper and change columns types\n",
    "sample_population.columns = [column.upper() for column in sample_population.columns]\n",
    "sample_population['POBLACIÓN'] = sample_population['POBLACIÓN'].apply(lambda x: x.replace('.', '')).astype(int)\n",
    "sample_population['DEPARTAMENTO'] = sample_population['DEPARTAMENTO'].astype(str)\n",
    "# Normalize text after merge\n",
    "sample_population['DEPARTAMENTO'] = sample_population['DEPARTAMENTO'].apply(lambda text: normalize_and_capitalize(text))\n",
    "murders['DEPARTAMENTO'] = murders['DEPARTAMENTO'].apply(lambda text: normalize_and_capitalize(text))\n",
    "intrafamiliar_violence['DEPARTAMENTO'] = intrafamiliar_violence['DEPARTAMENTO'].apply(lambda text: normalize_and_capitalize(text))\n",
    "sexual_crimes['DEPARTAMENTO'] = sexual_crimes['DEPARTAMENTO'].apply(lambda text: normalize_and_capitalize(text))"
   ]
  },
  {
   "cell_type": "code",
   "execution_count": 19,
   "id": "06f48b21",
   "metadata": {},
   "outputs": [],
   "source": [
    "common_column_names = ['DEPARTAMENTO', 'CONTEO']"
   ]
  },
  {
   "cell_type": "code",
   "execution_count": 20,
   "id": "19537297",
   "metadata": {},
   "outputs": [],
   "source": [
    "# Get murder information\n",
    "murders_by_state_historically = get_affected_states_historicaly(murders, False).reset_index()\n",
    "murders_by_state_historically.columns = common_column_names\n",
    "murders_by_state_last_year = get_affected_states_on_last_year(murders, False).reset_index()\n",
    "murders_by_state_last_year.columns = common_column_names\n",
    "\n",
    "# Merge and get results\n",
    "murders_by_state_historically_with_population = pd.merge(murders_by_state_historically, sample_population, how='left', on='DEPARTAMENTO').dropna()\n",
    "murders_by_state_last_year_with_population = pd.merge(murders_by_state_last_year, sample_population, how='left', on='DEPARTAMENTO').dropna()\n",
    "\n",
    "# Results\n",
    "murders_by_state_historically_with_population['NORMALIZED'] = murders_by_state_historically_with_population['CONTEO'] / murders_by_state_historically_with_population['POBLACIÓN']\n",
    "murders_by_state_last_year_with_population['NORMALIZED'] = murders_by_state_last_year_with_population['CONTEO'] / murders_by_state_last_year_with_population['POBLACIÓN']"
   ]
  },
  {
   "cell_type": "code",
   "execution_count": 35,
   "id": "24ea88c4",
   "metadata": {},
   "outputs": [
    {
     "name": "stdout",
     "output_type": "stream",
     "text": [
      "   DEPARTAMENTO  CONTEO  POBLACIÓN  NORMALIZED\n",
      "12       BOYACA    1756   172548.0    0.010177\n",
      "7         CAUCA    2047   318059.0    0.006436\n",
      "22       ARAUCA     511    85585.0    0.005971\n"
     ]
    }
   ],
   "source": [
    "print(murders_by_state_historically_with_population.sort_values(by='NORMALIZED', ascending=False).iloc[:3])"
   ]
  },
  {
   "cell_type": "code",
   "execution_count": 30,
   "id": "3853a819",
   "metadata": {},
   "outputs": [
    {
     "data": {
      "text/html": [
       "<div>\n",
       "<style scoped>\n",
       "    .dataframe tbody tr th:only-of-type {\n",
       "        vertical-align: middle;\n",
       "    }\n",
       "\n",
       "    .dataframe tbody tr th {\n",
       "        vertical-align: top;\n",
       "    }\n",
       "\n",
       "    .dataframe thead th {\n",
       "        text-align: right;\n",
       "    }\n",
       "</style>\n",
       "<table border=\"1\" class=\"dataframe\">\n",
       "  <thead>\n",
       "    <tr style=\"text-align: right;\">\n",
       "      <th></th>\n",
       "      <th>DEPARTAMENTO</th>\n",
       "      <th>CONTEO</th>\n",
       "      <th>POBLACIÓN</th>\n",
       "      <th>NORMALIZED</th>\n",
       "    </tr>\n",
       "  </thead>\n",
       "  <tbody>\n",
       "    <tr>\n",
       "      <th>24</th>\n",
       "      <td>PUTUMAYO</td>\n",
       "      <td>57</td>\n",
       "      <td>56398.0</td>\n",
       "      <td>0.001011</td>\n",
       "    </tr>\n",
       "    <tr>\n",
       "      <th>14</th>\n",
       "      <td>BOYACA</td>\n",
       "      <td>169</td>\n",
       "      <td>172548.0</td>\n",
       "      <td>0.000979</td>\n",
       "    </tr>\n",
       "    <tr>\n",
       "      <th>23</th>\n",
       "      <td>ARAUCA</td>\n",
       "      <td>59</td>\n",
       "      <td>85585.0</td>\n",
       "      <td>0.000689</td>\n",
       "    </tr>\n",
       "  </tbody>\n",
       "</table>\n",
       "</div>"
      ],
      "text/plain": [
       "   DEPARTAMENTO  CONTEO  POBLACIÓN  NORMALIZED\n",
       "24     PUTUMAYO      57    56398.0    0.001011\n",
       "14       BOYACA     169   172548.0    0.000979\n",
       "23       ARAUCA      59    85585.0    0.000689"
      ]
     },
     "execution_count": 30,
     "metadata": {},
     "output_type": "execute_result"
    }
   ],
   "source": [
    "murders_by_state_last_year_with_population.sort_values(by='NORMALIZED', ascending=False).iloc[:3]"
   ]
  },
  {
   "cell_type": "code",
   "execution_count": 23,
   "id": "82717bc8",
   "metadata": {},
   "outputs": [],
   "source": [
    "# Get intrafamiliar violence information\n",
    "intrafamiliar_violence_by_state_historically = get_affected_states_historicaly(intrafamiliar_violence, False).reset_index()\n",
    "intrafamiliar_violence_by_state_historically.columns = common_column_names\n",
    "intrafamiliar_violence_by_state_last_year = get_affected_states_on_last_year(intrafamiliar_violence, False).reset_index()\n",
    "intrafamiliar_violence_by_state_last_year.columns = common_column_names\n",
    "\n",
    "# Merge and get results\n",
    "intrafamiliar_violence_by_state_historically_with_population = pd.merge(intrafamiliar_violence_by_state_historically, sample_population, how='left', on='DEPARTAMENTO').dropna()\n",
    "intrafamiliar_violence_by_state_last_year_with_population = pd.merge(intrafamiliar_violence_by_state_last_year, sample_population, how='left', on='DEPARTAMENTO').dropna()\n",
    "\n",
    "\n",
    "# Results\n",
    "intrafamiliar_violence_by_state_historically_with_population['NORMALIZED'] = intrafamiliar_violence_by_state_historically_with_population['CONTEO'] / intrafamiliar_violence_by_state_historically_with_population['POBLACIÓN']\n",
    "intrafamiliar_violence_by_state_last_year_with_population['NORMALIZED'] = intrafamiliar_violence_by_state_last_year_with_population['CONTEO'] / intrafamiliar_violence_by_state_last_year_with_population['POBLACIÓN']"
   ]
  },
  {
   "cell_type": "code",
   "execution_count": 31,
   "id": "08c7476a",
   "metadata": {},
   "outputs": [
    {
     "data": {
      "text/html": [
       "<div>\n",
       "<style scoped>\n",
       "    .dataframe tbody tr th:only-of-type {\n",
       "        vertical-align: middle;\n",
       "    }\n",
       "\n",
       "    .dataframe tbody tr th {\n",
       "        vertical-align: top;\n",
       "    }\n",
       "\n",
       "    .dataframe thead th {\n",
       "        text-align: right;\n",
       "    }\n",
       "</style>\n",
       "<table border=\"1\" class=\"dataframe\">\n",
       "  <thead>\n",
       "    <tr style=\"text-align: right;\">\n",
       "      <th></th>\n",
       "      <th>DEPARTAMENTO</th>\n",
       "      <th>CONTEO</th>\n",
       "      <th>POBLACIÓN</th>\n",
       "      <th>NORMALIZED</th>\n",
       "    </tr>\n",
       "  </thead>\n",
       "  <tbody>\n",
       "    <tr>\n",
       "      <th>4</th>\n",
       "      <td>BOYACA</td>\n",
       "      <td>27822</td>\n",
       "      <td>172548.0</td>\n",
       "      <td>0.161242</td>\n",
       "    </tr>\n",
       "    <tr>\n",
       "      <th>3</th>\n",
       "      <td>SANTANDER</td>\n",
       "      <td>39174</td>\n",
       "      <td>581130.0</td>\n",
       "      <td>0.067410</td>\n",
       "    </tr>\n",
       "    <tr>\n",
       "      <th>24</th>\n",
       "      <td>PUTUMAYO</td>\n",
       "      <td>3311</td>\n",
       "      <td>56398.0</td>\n",
       "      <td>0.058708</td>\n",
       "    </tr>\n",
       "  </tbody>\n",
       "</table>\n",
       "</div>"
      ],
      "text/plain": [
       "   DEPARTAMENTO  CONTEO  POBLACIÓN  NORMALIZED\n",
       "4        BOYACA   27822   172548.0    0.161242\n",
       "3     SANTANDER   39174   581130.0    0.067410\n",
       "24     PUTUMAYO    3311    56398.0    0.058708"
      ]
     },
     "execution_count": 31,
     "metadata": {},
     "output_type": "execute_result"
    }
   ],
   "source": [
    "intrafamiliar_violence_by_state_historically_with_population.sort_values(by='NORMALIZED', ascending=False).iloc[:3]"
   ]
  },
  {
   "cell_type": "code",
   "execution_count": 32,
   "id": "59a09f13",
   "metadata": {},
   "outputs": [
    {
     "data": {
      "text/html": [
       "<div>\n",
       "<style scoped>\n",
       "    .dataframe tbody tr th:only-of-type {\n",
       "        vertical-align: middle;\n",
       "    }\n",
       "\n",
       "    .dataframe tbody tr th {\n",
       "        vertical-align: top;\n",
       "    }\n",
       "\n",
       "    .dataframe thead th {\n",
       "        text-align: right;\n",
       "    }\n",
       "</style>\n",
       "<table border=\"1\" class=\"dataframe\">\n",
       "  <thead>\n",
       "    <tr style=\"text-align: right;\">\n",
       "      <th></th>\n",
       "      <th>DEPARTAMENTO</th>\n",
       "      <th>CONTEO</th>\n",
       "      <th>POBLACIÓN</th>\n",
       "      <th>NORMALIZED</th>\n",
       "    </tr>\n",
       "  </thead>\n",
       "  <tbody>\n",
       "    <tr>\n",
       "      <th>4</th>\n",
       "      <td>BOYACA</td>\n",
       "      <td>3061</td>\n",
       "      <td>172548.0</td>\n",
       "      <td>0.017740</td>\n",
       "    </tr>\n",
       "    <tr>\n",
       "      <th>23</th>\n",
       "      <td>PUTUMAYO</td>\n",
       "      <td>399</td>\n",
       "      <td>56398.0</td>\n",
       "      <td>0.007075</td>\n",
       "    </tr>\n",
       "    <tr>\n",
       "      <th>3</th>\n",
       "      <td>SANTANDER</td>\n",
       "      <td>4103</td>\n",
       "      <td>581130.0</td>\n",
       "      <td>0.007060</td>\n",
       "    </tr>\n",
       "  </tbody>\n",
       "</table>\n",
       "</div>"
      ],
      "text/plain": [
       "   DEPARTAMENTO  CONTEO  POBLACIÓN  NORMALIZED\n",
       "4        BOYACA    3061   172548.0    0.017740\n",
       "23     PUTUMAYO     399    56398.0    0.007075\n",
       "3     SANTANDER    4103   581130.0    0.007060"
      ]
     },
     "execution_count": 32,
     "metadata": {},
     "output_type": "execute_result"
    }
   ],
   "source": [
    "intrafamiliar_violence_by_state_last_year_with_population.sort_values(by='NORMALIZED', ascending=False).iloc[:3]"
   ]
  },
  {
   "cell_type": "code",
   "execution_count": 26,
   "id": "3faaa0bd",
   "metadata": {},
   "outputs": [],
   "source": [
    "# Get sexual crime information\n",
    "sexual_crimes_by_state_historically = get_affected_states_historicaly(sexual_crimes, False).reset_index()\n",
    "sexual_crimes_by_state_historically.columns = common_column_names\n",
    "sexual_crimes_by_state_last_year = get_affected_states_on_last_year(sexual_crimes, False).reset_index()\n",
    "sexual_crimes_by_state_last_year.columns = common_column_names\n",
    "\n",
    "# Merge and get results\n",
    "sexual_crimes_by_state_historically_with_population = pd.merge(intrafamiliar_violence_by_state_historically, sample_population, how='left', on='DEPARTAMENTO').dropna()\n",
    "sexual_crimes_by_state_last_year_with_population = pd.merge(intrafamiliar_violence_by_state_last_year, sample_population, how='left', on='DEPARTAMENTO').dropna()\n",
    "\n",
    "# Results\n",
    "sexual_crimes_by_state_historically_with_population['NORMALIZED'] = sexual_crimes_by_state_historically_with_population['CONTEO'] / sexual_crimes_by_state_historically_with_population['POBLACIÓN']\n",
    "sexual_crimes_by_state_last_year_with_population['NORMALIZED'] = sexual_crimes_by_state_last_year_with_population['CONTEO'] / sexual_crimes_by_state_last_year_with_population['POBLACIÓN']"
   ]
  },
  {
   "cell_type": "code",
   "execution_count": 33,
   "id": "c8ddb6b6",
   "metadata": {},
   "outputs": [
    {
     "data": {
      "text/html": [
       "<div>\n",
       "<style scoped>\n",
       "    .dataframe tbody tr th:only-of-type {\n",
       "        vertical-align: middle;\n",
       "    }\n",
       "\n",
       "    .dataframe tbody tr th {\n",
       "        vertical-align: top;\n",
       "    }\n",
       "\n",
       "    .dataframe thead th {\n",
       "        text-align: right;\n",
       "    }\n",
       "</style>\n",
       "<table border=\"1\" class=\"dataframe\">\n",
       "  <thead>\n",
       "    <tr style=\"text-align: right;\">\n",
       "      <th></th>\n",
       "      <th>DEPARTAMENTO</th>\n",
       "      <th>CONTEO</th>\n",
       "      <th>POBLACIÓN</th>\n",
       "      <th>NORMALIZED</th>\n",
       "    </tr>\n",
       "  </thead>\n",
       "  <tbody>\n",
       "    <tr>\n",
       "      <th>4</th>\n",
       "      <td>BOYACA</td>\n",
       "      <td>27822</td>\n",
       "      <td>172548.0</td>\n",
       "      <td>0.161242</td>\n",
       "    </tr>\n",
       "    <tr>\n",
       "      <th>3</th>\n",
       "      <td>SANTANDER</td>\n",
       "      <td>39174</td>\n",
       "      <td>581130.0</td>\n",
       "      <td>0.067410</td>\n",
       "    </tr>\n",
       "    <tr>\n",
       "      <th>24</th>\n",
       "      <td>PUTUMAYO</td>\n",
       "      <td>3311</td>\n",
       "      <td>56398.0</td>\n",
       "      <td>0.058708</td>\n",
       "    </tr>\n",
       "  </tbody>\n",
       "</table>\n",
       "</div>"
      ],
      "text/plain": [
       "   DEPARTAMENTO  CONTEO  POBLACIÓN  NORMALIZED\n",
       "4        BOYACA   27822   172548.0    0.161242\n",
       "3     SANTANDER   39174   581130.0    0.067410\n",
       "24     PUTUMAYO    3311    56398.0    0.058708"
      ]
     },
     "execution_count": 33,
     "metadata": {},
     "output_type": "execute_result"
    }
   ],
   "source": [
    "sexual_crimes_by_state_historically_with_population.sort_values(by='NORMALIZED', ascending=False).iloc[:3]"
   ]
  },
  {
   "cell_type": "code",
   "execution_count": 34,
   "id": "f1419e12",
   "metadata": {},
   "outputs": [
    {
     "data": {
      "text/html": [
       "<div>\n",
       "<style scoped>\n",
       "    .dataframe tbody tr th:only-of-type {\n",
       "        vertical-align: middle;\n",
       "    }\n",
       "\n",
       "    .dataframe tbody tr th {\n",
       "        vertical-align: top;\n",
       "    }\n",
       "\n",
       "    .dataframe thead th {\n",
       "        text-align: right;\n",
       "    }\n",
       "</style>\n",
       "<table border=\"1\" class=\"dataframe\">\n",
       "  <thead>\n",
       "    <tr style=\"text-align: right;\">\n",
       "      <th></th>\n",
       "      <th>DEPARTAMENTO</th>\n",
       "      <th>CONTEO</th>\n",
       "      <th>POBLACIÓN</th>\n",
       "      <th>NORMALIZED</th>\n",
       "    </tr>\n",
       "  </thead>\n",
       "  <tbody>\n",
       "    <tr>\n",
       "      <th>4</th>\n",
       "      <td>BOYACA</td>\n",
       "      <td>3061</td>\n",
       "      <td>172548.0</td>\n",
       "      <td>0.017740</td>\n",
       "    </tr>\n",
       "    <tr>\n",
       "      <th>23</th>\n",
       "      <td>PUTUMAYO</td>\n",
       "      <td>399</td>\n",
       "      <td>56398.0</td>\n",
       "      <td>0.007075</td>\n",
       "    </tr>\n",
       "    <tr>\n",
       "      <th>3</th>\n",
       "      <td>SANTANDER</td>\n",
       "      <td>4103</td>\n",
       "      <td>581130.0</td>\n",
       "      <td>0.007060</td>\n",
       "    </tr>\n",
       "  </tbody>\n",
       "</table>\n",
       "</div>"
      ],
      "text/plain": [
       "   DEPARTAMENTO  CONTEO  POBLACIÓN  NORMALIZED\n",
       "4        BOYACA    3061   172548.0    0.017740\n",
       "23     PUTUMAYO     399    56398.0    0.007075\n",
       "3     SANTANDER    4103   581130.0    0.007060"
      ]
     },
     "execution_count": 34,
     "metadata": {},
     "output_type": "execute_result"
    }
   ],
   "source": [
    "sexual_crimes_by_state_last_year_with_population.sort_values(by='NORMALIZED', ascending=False).iloc[:3]"
   ]
  },
  {
   "cell_type": "code",
   "execution_count": null,
   "id": "3ec47fff",
   "metadata": {},
   "outputs": [],
   "source": []
  }
 ],
 "metadata": {
  "kernelspec": {
   "display_name": "Python 3 (ipykernel)",
   "language": "python",
   "name": "python3"
  },
  "language_info": {
   "codemirror_mode": {
    "name": "ipython",
    "version": 3
   },
   "file_extension": ".py",
   "mimetype": "text/x-python",
   "name": "python",
   "nbconvert_exporter": "python",
   "pygments_lexer": "ipython3",
   "version": "3.10.0"
  }
 },
 "nbformat": 4,
 "nbformat_minor": 5
}
