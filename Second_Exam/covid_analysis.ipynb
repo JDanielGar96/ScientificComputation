{
 "cells": [
  {
   "cell_type": "code",
   "execution_count": 1,
   "metadata": {
    "pycharm": {
     "name": "#%%\n"
    }
   },
   "outputs": [
    {
     "data": {
      "text/plain": [
       "RendererRegistry.enable('default')"
      ]
     },
     "execution_count": 1,
     "metadata": {},
     "output_type": "execute_result"
    }
   ],
   "source": [
    "import pandas as pd\n",
    "import altair as alt\n",
    "import numpy as np\n",
    "alt.renderers.enable('default')"
   ]
  },
  {
   "cell_type": "code",
   "execution_count": 2,
   "metadata": {
    "pycharm": {
     "name": "#%%\n"
    }
   },
   "outputs": [],
   "source": [
    "data = pd.read_csv('Casos_Covid_2022.csv')"
   ]
  },
  {
   "cell_type": "code",
   "execution_count": 3,
   "metadata": {},
   "outputs": [],
   "source": [
    "data = data[data['Fecha de diagnóstico'] >= '2022-01-01'].sort_values(by='Fecha de diagnóstico')"
   ]
  },
  {
   "cell_type": "code",
   "execution_count": 75,
   "metadata": {},
   "outputs": [
    {
     "data": {
      "text/plain": [
       "Index(['fecha reporte web', 'ID de caso', 'Fecha de notificación',\n",
       "       'Código DIVIPOLA departamento', 'Nombre departamento',\n",
       "       'Código DIVIPOLA municipio', 'Nombre municipio', 'Edad',\n",
       "       'Unidad de medida de edad', 'Sexo', 'Tipo de contagio',\n",
       "       'Ubicación del caso', 'Estado', 'Código ISO del país',\n",
       "       'Nombre del país', 'Recuperado', 'Fecha de inicio de síntomas',\n",
       "       'Fecha de muerte', 'Fecha de diagnóstico', 'Fecha de recuperación',\n",
       "       'Tipo de recuperación', 'Pertenencia étnica',\n",
       "       'Nombre del grupo étnico'],\n",
       "      dtype='object')"
      ]
     },
     "execution_count": 75,
     "metadata": {},
     "output_type": "execute_result"
    }
   ],
   "source": [
    "data.columns"
   ]
  },
  {
   "cell_type": "markdown",
   "metadata": {},
   "source": [
    "#### Procesamiento de datos"
   ]
  },
  {
   "cell_type": "code",
   "execution_count": 4,
   "metadata": {},
   "outputs": [],
   "source": [
    "data = data[data['Recuperado'].notna()]\n",
    "data['Fecha de notificación'] = pd.to_datetime(data['Fecha de notificación'])\n",
    "data['Fecha de diagnóstico'] = pd.to_datetime(data['Fecha de diagnóstico'])"
   ]
  },
  {
   "cell_type": "markdown",
   "metadata": {},
   "source": [
    "#### Primera Pregunta\n",
    "¿Es seguro quitar las medidas de uso de tapabocas en interiores y transporte masivo?"
   ]
  },
  {
   "cell_type": "code",
   "execution_count": 109,
   "metadata": {},
   "outputs": [],
   "source": [
    "covid_cases = data.groupby(by='Fecha de diagnóstico').count().rename(\n",
    "    columns={'ID de caso': 'Casos'})['Casos'].reset_index()"
   ]
  },
  {
   "cell_type": "code",
   "execution_count": 110,
   "metadata": {},
   "outputs": [],
   "source": [
    "covid_cases_chart = alt.Chart(covid_cases).encode(x='Fecha de diagnóstico:T', y='Casos:Q')"
   ]
  },
  {
   "cell_type": "code",
   "execution_count": 115,
   "metadata": {},
   "outputs": [
    {
     "data": {
      "text/html": [
       "\n",
       "<div id=\"altair-viz-66f9e086f12046ac96fb84d0dd26bdac\"></div>\n",
       "<script type=\"text/javascript\">\n",
       "  var VEGA_DEBUG = (typeof VEGA_DEBUG == \"undefined\") ? {} : VEGA_DEBUG;\n",
       "  (function(spec, embedOpt){\n",
       "    let outputDiv = document.currentScript.previousElementSibling;\n",
       "    if (outputDiv.id !== \"altair-viz-66f9e086f12046ac96fb84d0dd26bdac\") {\n",
       "      outputDiv = document.getElementById(\"altair-viz-66f9e086f12046ac96fb84d0dd26bdac\");\n",
       "    }\n",
       "    const paths = {\n",
       "      \"vega\": \"https://cdn.jsdelivr.net/npm//vega@5?noext\",\n",
       "      \"vega-lib\": \"https://cdn.jsdelivr.net/npm//vega-lib?noext\",\n",
       "      \"vega-lite\": \"https://cdn.jsdelivr.net/npm//vega-lite@4.17.0?noext\",\n",
       "      \"vega-embed\": \"https://cdn.jsdelivr.net/npm//vega-embed@6?noext\",\n",
       "    };\n",
       "\n",
       "    function maybeLoadScript(lib, version) {\n",
       "      var key = `${lib.replace(\"-\", \"\")}_version`;\n",
       "      return (VEGA_DEBUG[key] == version) ?\n",
       "        Promise.resolve(paths[lib]) :\n",
       "        new Promise(function(resolve, reject) {\n",
       "          var s = document.createElement('script');\n",
       "          document.getElementsByTagName(\"head\")[0].appendChild(s);\n",
       "          s.async = true;\n",
       "          s.onload = () => {\n",
       "            VEGA_DEBUG[key] = version;\n",
       "            return resolve(paths[lib]);\n",
       "          };\n",
       "          s.onerror = () => reject(`Error loading script: ${paths[lib]}`);\n",
       "          s.src = paths[lib];\n",
       "        });\n",
       "    }\n",
       "\n",
       "    function showError(err) {\n",
       "      outputDiv.innerHTML = `<div class=\"error\" style=\"color:red;\">${err}</div>`;\n",
       "      throw err;\n",
       "    }\n",
       "\n",
       "    function displayChart(vegaEmbed) {\n",
       "      vegaEmbed(outputDiv, spec, embedOpt)\n",
       "        .catch(err => showError(`Javascript Error: ${err.message}<br>This usually means there's a typo in your chart specification. See the javascript console for the full traceback.`));\n",
       "    }\n",
       "\n",
       "    if(typeof define === \"function\" && define.amd) {\n",
       "      requirejs.config({paths});\n",
       "      require([\"vega-embed\"], displayChart, err => showError(`Error loading script: ${err.message}`));\n",
       "    } else {\n",
       "      maybeLoadScript(\"vega\", \"5\")\n",
       "        .then(() => maybeLoadScript(\"vega-lite\", \"4.17.0\"))\n",
       "        .then(() => maybeLoadScript(\"vega-embed\", \"6\"))\n",
       "        .catch(showError)\n",
       "        .then(() => displayChart(vegaEmbed));\n",
       "    }\n",
       "  })({\"config\": {\"view\": {\"continuousWidth\": 400, \"continuousHeight\": 300}}, \"layer\": [{\"mark\": \"line\", \"encoding\": {\"x\": {\"field\": \"Fecha de diagn\\u00f3stico\", \"type\": \"temporal\"}, \"y\": {\"field\": \"Casos\", \"type\": \"quantitative\"}}, \"selection\": {\"selector005\": {\"type\": \"interval\", \"bind\": \"scales\", \"encodings\": [\"x\", \"y\"]}}}], \"data\": {\"name\": \"data-b0c9d309dc08e2c9623dc3b9d3b68693\"}, \"$schema\": \"https://vega.github.io/schema/vega-lite/v4.17.0.json\", \"datasets\": {\"data-b0c9d309dc08e2c9623dc3b9d3b68693\": [{\"Fecha de diagn\\u00f3stico\": \"2022-01-01T00:00:00\", \"Casos\": 6438}, {\"Fecha de diagn\\u00f3stico\": \"2022-01-02T00:00:00\", \"Casos\": 8233}, {\"Fecha de diagn\\u00f3stico\": \"2022-01-03T00:00:00\", \"Casos\": 21060}, {\"Fecha de diagn\\u00f3stico\": \"2022-01-04T00:00:00\", \"Casos\": 28670}, {\"Fecha de diagn\\u00f3stico\": \"2022-01-05T00:00:00\", \"Casos\": 35395}, {\"Fecha de diagn\\u00f3stico\": \"2022-01-06T00:00:00\", \"Casos\": 40220}, {\"Fecha de diagn\\u00f3stico\": \"2022-01-07T00:00:00\", \"Casos\": 41991}, {\"Fecha de diagn\\u00f3stico\": \"2022-01-08T00:00:00\", \"Casos\": 31995}, {\"Fecha de diagn\\u00f3stico\": \"2022-01-09T00:00:00\", \"Casos\": 20073}, {\"Fecha de diagn\\u00f3stico\": \"2022-01-10T00:00:00\", \"Casos\": 22205}, {\"Fecha de diagn\\u00f3stico\": \"2022-01-11T00:00:00\", \"Casos\": 35271}, {\"Fecha de diagn\\u00f3stico\": \"2022-01-12T00:00:00\", \"Casos\": 35422}, {\"Fecha de diagn\\u00f3stico\": \"2022-01-13T00:00:00\", \"Casos\": 34560}, {\"Fecha de diagn\\u00f3stico\": \"2022-01-14T00:00:00\", \"Casos\": 32672}, {\"Fecha de diagn\\u00f3stico\": \"2022-01-15T00:00:00\", \"Casos\": 27295}, {\"Fecha de diagn\\u00f3stico\": \"2022-01-16T00:00:00\", \"Casos\": 16899}, {\"Fecha de diagn\\u00f3stico\": \"2022-01-17T00:00:00\", \"Casos\": 25278}, {\"Fecha de diagn\\u00f3stico\": \"2022-01-18T00:00:00\", \"Casos\": 27076}, {\"Fecha de diagn\\u00f3stico\": \"2022-01-19T00:00:00\", \"Casos\": 29434}, {\"Fecha de diagn\\u00f3stico\": \"2022-01-20T00:00:00\", \"Casos\": 29686}, {\"Fecha de diagn\\u00f3stico\": \"2022-01-21T00:00:00\", \"Casos\": 26606}, {\"Fecha de diagn\\u00f3stico\": \"2022-01-22T00:00:00\", \"Casos\": 20895}, {\"Fecha de diagn\\u00f3stico\": \"2022-01-23T00:00:00\", \"Casos\": 13050}, {\"Fecha de diagn\\u00f3stico\": \"2022-01-24T00:00:00\", \"Casos\": 21500}, {\"Fecha de diagn\\u00f3stico\": \"2022-01-25T00:00:00\", \"Casos\": 21153}, {\"Fecha de diagn\\u00f3stico\": \"2022-01-26T00:00:00\", \"Casos\": 21461}, {\"Fecha de diagn\\u00f3stico\": \"2022-01-27T00:00:00\", \"Casos\": 19468}, {\"Fecha de diagn\\u00f3stico\": \"2022-01-28T00:00:00\", \"Casos\": 18150}, {\"Fecha de diagn\\u00f3stico\": \"2022-01-29T00:00:00\", \"Casos\": 13396}, {\"Fecha de diagn\\u00f3stico\": \"2022-01-30T00:00:00\", \"Casos\": 8656}, {\"Fecha de diagn\\u00f3stico\": \"2022-01-31T00:00:00\", \"Casos\": 12677}, {\"Fecha de diagn\\u00f3stico\": \"2022-02-01T00:00:00\", \"Casos\": 13280}, {\"Fecha de diagn\\u00f3stico\": \"2022-02-02T00:00:00\", \"Casos\": 12250}, {\"Fecha de diagn\\u00f3stico\": \"2022-02-03T00:00:00\", \"Casos\": 11283}, {\"Fecha de diagn\\u00f3stico\": \"2022-02-04T00:00:00\", \"Casos\": 9799}, {\"Fecha de diagn\\u00f3stico\": \"2022-02-05T00:00:00\", \"Casos\": 7654}, {\"Fecha de diagn\\u00f3stico\": \"2022-02-06T00:00:00\", \"Casos\": 4315}, {\"Fecha de diagn\\u00f3stico\": \"2022-02-07T00:00:00\", \"Casos\": 6767}, {\"Fecha de diagn\\u00f3stico\": \"2022-02-08T00:00:00\", \"Casos\": 6616}, {\"Fecha de diagn\\u00f3stico\": \"2022-02-09T00:00:00\", \"Casos\": 5955}, {\"Fecha de diagn\\u00f3stico\": \"2022-02-10T00:00:00\", \"Casos\": 5786}, {\"Fecha de diagn\\u00f3stico\": \"2022-02-11T00:00:00\", \"Casos\": 5026}, {\"Fecha de diagn\\u00f3stico\": \"2022-02-12T00:00:00\", \"Casos\": 4087}, {\"Fecha de diagn\\u00f3stico\": \"2022-02-13T00:00:00\", \"Casos\": 2407}, {\"Fecha de diagn\\u00f3stico\": \"2022-02-14T00:00:00\", \"Casos\": 3514}, {\"Fecha de diagn\\u00f3stico\": \"2022-02-15T00:00:00\", \"Casos\": 3493}, {\"Fecha de diagn\\u00f3stico\": \"2022-02-16T00:00:00\", \"Casos\": 3616}, {\"Fecha de diagn\\u00f3stico\": \"2022-02-17T00:00:00\", \"Casos\": 3097}, {\"Fecha de diagn\\u00f3stico\": \"2022-02-18T00:00:00\", \"Casos\": 2698}, {\"Fecha de diagn\\u00f3stico\": \"2022-02-19T00:00:00\", \"Casos\": 2119}, {\"Fecha de diagn\\u00f3stico\": \"2022-02-20T00:00:00\", \"Casos\": 1315}, {\"Fecha de diagn\\u00f3stico\": \"2022-02-21T00:00:00\", \"Casos\": 1781}, {\"Fecha de diagn\\u00f3stico\": \"2022-02-22T00:00:00\", \"Casos\": 1886}, {\"Fecha de diagn\\u00f3stico\": \"2022-02-23T00:00:00\", \"Casos\": 1666}, {\"Fecha de diagn\\u00f3stico\": \"2022-02-24T00:00:00\", \"Casos\": 1631}, {\"Fecha de diagn\\u00f3stico\": \"2022-02-25T00:00:00\", \"Casos\": 1449}, {\"Fecha de diagn\\u00f3stico\": \"2022-02-26T00:00:00\", \"Casos\": 1115}, {\"Fecha de diagn\\u00f3stico\": \"2022-02-27T00:00:00\", \"Casos\": 595}, {\"Fecha de diagn\\u00f3stico\": \"2022-02-28T00:00:00\", \"Casos\": 836}, {\"Fecha de diagn\\u00f3stico\": \"2022-03-01T00:00:00\", \"Casos\": 1000}, {\"Fecha de diagn\\u00f3stico\": \"2022-03-02T00:00:00\", \"Casos\": 935}, {\"Fecha de diagn\\u00f3stico\": \"2022-03-03T00:00:00\", \"Casos\": 888}, {\"Fecha de diagn\\u00f3stico\": \"2022-03-04T00:00:00\", \"Casos\": 887}, {\"Fecha de diagn\\u00f3stico\": \"2022-03-05T00:00:00\", \"Casos\": 600}, {\"Fecha de diagn\\u00f3stico\": \"2022-03-06T00:00:00\", \"Casos\": 401}, {\"Fecha de diagn\\u00f3stico\": \"2022-03-07T00:00:00\", \"Casos\": 524}, {\"Fecha de diagn\\u00f3stico\": \"2022-03-08T00:00:00\", \"Casos\": 614}, {\"Fecha de diagn\\u00f3stico\": \"2022-03-09T00:00:00\", \"Casos\": 516}, {\"Fecha de diagn\\u00f3stico\": \"2022-03-10T00:00:00\", \"Casos\": 538}, {\"Fecha de diagn\\u00f3stico\": \"2022-03-11T00:00:00\", \"Casos\": 480}, {\"Fecha de diagn\\u00f3stico\": \"2022-03-12T00:00:00\", \"Casos\": 401}, {\"Fecha de diagn\\u00f3stico\": \"2022-03-13T00:00:00\", \"Casos\": 260}, {\"Fecha de diagn\\u00f3stico\": \"2022-03-14T00:00:00\", \"Casos\": 332}, {\"Fecha de diagn\\u00f3stico\": \"2022-03-15T00:00:00\", \"Casos\": 441}, {\"Fecha de diagn\\u00f3stico\": \"2022-03-16T00:00:00\", \"Casos\": 418}, {\"Fecha de diagn\\u00f3stico\": \"2022-03-17T00:00:00\", \"Casos\": 382}, {\"Fecha de diagn\\u00f3stico\": \"2022-03-18T00:00:00\", \"Casos\": 411}, {\"Fecha de diagn\\u00f3stico\": \"2022-03-19T00:00:00\", \"Casos\": 415}, {\"Fecha de diagn\\u00f3stico\": \"2022-03-20T00:00:00\", \"Casos\": 157}, {\"Fecha de diagn\\u00f3stico\": \"2022-03-21T00:00:00\", \"Casos\": 147}, {\"Fecha de diagn\\u00f3stico\": \"2022-03-22T00:00:00\", \"Casos\": 253}, {\"Fecha de diagn\\u00f3stico\": \"2022-03-23T00:00:00\", \"Casos\": 320}, {\"Fecha de diagn\\u00f3stico\": \"2022-03-24T00:00:00\", \"Casos\": 334}, {\"Fecha de diagn\\u00f3stico\": \"2022-03-25T00:00:00\", \"Casos\": 337}, {\"Fecha de diagn\\u00f3stico\": \"2022-03-26T00:00:00\", \"Casos\": 283}, {\"Fecha de diagn\\u00f3stico\": \"2022-03-27T00:00:00\", \"Casos\": 197}, {\"Fecha de diagn\\u00f3stico\": \"2022-03-28T00:00:00\", \"Casos\": 256}, {\"Fecha de diagn\\u00f3stico\": \"2022-03-29T00:00:00\", \"Casos\": 282}, {\"Fecha de diagn\\u00f3stico\": \"2022-03-30T00:00:00\", \"Casos\": 314}, {\"Fecha de diagn\\u00f3stico\": \"2022-03-31T00:00:00\", \"Casos\": 283}, {\"Fecha de diagn\\u00f3stico\": \"2022-04-01T00:00:00\", \"Casos\": 278}, {\"Fecha de diagn\\u00f3stico\": \"2022-04-02T00:00:00\", \"Casos\": 224}, {\"Fecha de diagn\\u00f3stico\": \"2022-04-03T00:00:00\", \"Casos\": 127}, {\"Fecha de diagn\\u00f3stico\": \"2022-04-04T00:00:00\", \"Casos\": 283}, {\"Fecha de diagn\\u00f3stico\": \"2022-04-05T00:00:00\", \"Casos\": 218}, {\"Fecha de diagn\\u00f3stico\": \"2022-04-06T00:00:00\", \"Casos\": 284}, {\"Fecha de diagn\\u00f3stico\": \"2022-04-07T00:00:00\", \"Casos\": 254}, {\"Fecha de diagn\\u00f3stico\": \"2022-04-08T00:00:00\", \"Casos\": 261}, {\"Fecha de diagn\\u00f3stico\": \"2022-04-09T00:00:00\", \"Casos\": 193}, {\"Fecha de diagn\\u00f3stico\": \"2022-04-10T00:00:00\", \"Casos\": 134}, {\"Fecha de diagn\\u00f3stico\": \"2022-04-11T00:00:00\", \"Casos\": 190}, {\"Fecha de diagn\\u00f3stico\": \"2022-04-12T00:00:00\", \"Casos\": 246}, {\"Fecha de diagn\\u00f3stico\": \"2022-04-13T00:00:00\", \"Casos\": 211}, {\"Fecha de diagn\\u00f3stico\": \"2022-04-14T00:00:00\", \"Casos\": 110}, {\"Fecha de diagn\\u00f3stico\": \"2022-04-15T00:00:00\", \"Casos\": 78}, {\"Fecha de diagn\\u00f3stico\": \"2022-04-16T00:00:00\", \"Casos\": 101}, {\"Fecha de diagn\\u00f3stico\": \"2022-04-17T00:00:00\", \"Casos\": 103}, {\"Fecha de diagn\\u00f3stico\": \"2022-04-18T00:00:00\", \"Casos\": 212}, {\"Fecha de diagn\\u00f3stico\": \"2022-04-19T00:00:00\", \"Casos\": 204}, {\"Fecha de diagn\\u00f3stico\": \"2022-04-20T00:00:00\", \"Casos\": 222}, {\"Fecha de diagn\\u00f3stico\": \"2022-04-21T00:00:00\", \"Casos\": 127}, {\"Fecha de diagn\\u00f3stico\": \"2022-04-22T00:00:00\", \"Casos\": 43}, {\"Fecha de diagn\\u00f3stico\": \"2022-04-23T00:00:00\", \"Casos\": 2}]}}, {\"mode\": \"vega-lite\"});\n",
       "</script>"
      ],
      "text/plain": [
       "alt.LayerChart(...)"
      ]
     },
     "execution_count": 115,
     "metadata": {},
     "output_type": "execute_result"
    }
   ],
   "source": [
    "alt.layer(\n",
    "    covid_cases_chart.mark_line()\n",
    ").interactive()"
   ]
  },
  {
   "cell_type": "code",
   "execution_count": 116,
   "metadata": {},
   "outputs": [],
   "source": [
    "covid_death_cases = data[data['Recuperado'] == 'Fallecido']\n",
    "covid_death_cases_grouped = covid_death_cases.groupby(by='Fecha de diagnóstico').count().rename(\n",
    "    columns={'ID de caso': 'Casos'})['Casos'].reset_index()"
   ]
  },
  {
   "cell_type": "code",
   "execution_count": 117,
   "metadata": {},
   "outputs": [],
   "source": [
    "covid_cases_chart = alt.Chart(covid_death_cases_grouped).encode(x='Fecha de diagnóstico:T', y='Casos:Q')"
   ]
  },
  {
   "cell_type": "code",
   "execution_count": 119,
   "metadata": {},
   "outputs": [
    {
     "data": {
      "text/html": [
       "\n",
       "<div id=\"altair-viz-bd5b615dd2cc468c881a9439a40e023d\"></div>\n",
       "<script type=\"text/javascript\">\n",
       "  var VEGA_DEBUG = (typeof VEGA_DEBUG == \"undefined\") ? {} : VEGA_DEBUG;\n",
       "  (function(spec, embedOpt){\n",
       "    let outputDiv = document.currentScript.previousElementSibling;\n",
       "    if (outputDiv.id !== \"altair-viz-bd5b615dd2cc468c881a9439a40e023d\") {\n",
       "      outputDiv = document.getElementById(\"altair-viz-bd5b615dd2cc468c881a9439a40e023d\");\n",
       "    }\n",
       "    const paths = {\n",
       "      \"vega\": \"https://cdn.jsdelivr.net/npm//vega@5?noext\",\n",
       "      \"vega-lib\": \"https://cdn.jsdelivr.net/npm//vega-lib?noext\",\n",
       "      \"vega-lite\": \"https://cdn.jsdelivr.net/npm//vega-lite@4.17.0?noext\",\n",
       "      \"vega-embed\": \"https://cdn.jsdelivr.net/npm//vega-embed@6?noext\",\n",
       "    };\n",
       "\n",
       "    function maybeLoadScript(lib, version) {\n",
       "      var key = `${lib.replace(\"-\", \"\")}_version`;\n",
       "      return (VEGA_DEBUG[key] == version) ?\n",
       "        Promise.resolve(paths[lib]) :\n",
       "        new Promise(function(resolve, reject) {\n",
       "          var s = document.createElement('script');\n",
       "          document.getElementsByTagName(\"head\")[0].appendChild(s);\n",
       "          s.async = true;\n",
       "          s.onload = () => {\n",
       "            VEGA_DEBUG[key] = version;\n",
       "            return resolve(paths[lib]);\n",
       "          };\n",
       "          s.onerror = () => reject(`Error loading script: ${paths[lib]}`);\n",
       "          s.src = paths[lib];\n",
       "        });\n",
       "    }\n",
       "\n",
       "    function showError(err) {\n",
       "      outputDiv.innerHTML = `<div class=\"error\" style=\"color:red;\">${err}</div>`;\n",
       "      throw err;\n",
       "    }\n",
       "\n",
       "    function displayChart(vegaEmbed) {\n",
       "      vegaEmbed(outputDiv, spec, embedOpt)\n",
       "        .catch(err => showError(`Javascript Error: ${err.message}<br>This usually means there's a typo in your chart specification. See the javascript console for the full traceback.`));\n",
       "    }\n",
       "\n",
       "    if(typeof define === \"function\" && define.amd) {\n",
       "      requirejs.config({paths});\n",
       "      require([\"vega-embed\"], displayChart, err => showError(`Error loading script: ${err.message}`));\n",
       "    } else {\n",
       "      maybeLoadScript(\"vega\", \"5\")\n",
       "        .then(() => maybeLoadScript(\"vega-lite\", \"4.17.0\"))\n",
       "        .then(() => maybeLoadScript(\"vega-embed\", \"6\"))\n",
       "        .catch(showError)\n",
       "        .then(() => displayChart(vegaEmbed));\n",
       "    }\n",
       "  })({\"config\": {\"view\": {\"continuousWidth\": 400, \"continuousHeight\": 300}}, \"layer\": [{\"mark\": \"line\", \"encoding\": {\"x\": {\"field\": \"Fecha de diagn\\u00f3stico\", \"type\": \"temporal\"}, \"y\": {\"field\": \"Casos\", \"type\": \"quantitative\"}}, \"selection\": {\"selector006\": {\"type\": \"interval\", \"bind\": \"scales\", \"encodings\": [\"x\", \"y\"]}}}], \"data\": {\"name\": \"data-f47cb2d7a656f32bdf9232c4d715c223\"}, \"$schema\": \"https://vega.github.io/schema/vega-lite/v4.17.0.json\", \"datasets\": {\"data-f47cb2d7a656f32bdf9232c4d715c223\": [{\"Fecha de diagn\\u00f3stico\": \"2022-01-01T00:00:00\", \"Casos\": 41}, {\"Fecha de diagn\\u00f3stico\": \"2022-01-02T00:00:00\", \"Casos\": 53}, {\"Fecha de diagn\\u00f3stico\": \"2022-01-03T00:00:00\", \"Casos\": 53}, {\"Fecha de diagn\\u00f3stico\": \"2022-01-04T00:00:00\", \"Casos\": 112}, {\"Fecha de diagn\\u00f3stico\": \"2022-01-05T00:00:00\", \"Casos\": 106}, {\"Fecha de diagn\\u00f3stico\": \"2022-01-06T00:00:00\", \"Casos\": 139}, {\"Fecha de diagn\\u00f3stico\": \"2022-01-07T00:00:00\", \"Casos\": 126}, {\"Fecha de diagn\\u00f3stico\": \"2022-01-08T00:00:00\", \"Casos\": 125}, {\"Fecha de diagn\\u00f3stico\": \"2022-01-09T00:00:00\", \"Casos\": 141}, {\"Fecha de diagn\\u00f3stico\": \"2022-01-10T00:00:00\", \"Casos\": 132}, {\"Fecha de diagn\\u00f3stico\": \"2022-01-11T00:00:00\", \"Casos\": 211}, {\"Fecha de diagn\\u00f3stico\": \"2022-01-12T00:00:00\", \"Casos\": 218}, {\"Fecha de diagn\\u00f3stico\": \"2022-01-13T00:00:00\", \"Casos\": 245}, {\"Fecha de diagn\\u00f3stico\": \"2022-01-14T00:00:00\", \"Casos\": 239}, {\"Fecha de diagn\\u00f3stico\": \"2022-01-15T00:00:00\", \"Casos\": 274}, {\"Fecha de diagn\\u00f3stico\": \"2022-01-16T00:00:00\", \"Casos\": 255}, {\"Fecha de diagn\\u00f3stico\": \"2022-01-17T00:00:00\", \"Casos\": 286}, {\"Fecha de diagn\\u00f3stico\": \"2022-01-18T00:00:00\", \"Casos\": 330}, {\"Fecha de diagn\\u00f3stico\": \"2022-01-19T00:00:00\", \"Casos\": 333}, {\"Fecha de diagn\\u00f3stico\": \"2022-01-20T00:00:00\", \"Casos\": 346}, {\"Fecha de diagn\\u00f3stico\": \"2022-01-21T00:00:00\", \"Casos\": 332}, {\"Fecha de diagn\\u00f3stico\": \"2022-01-22T00:00:00\", \"Casos\": 301}, {\"Fecha de diagn\\u00f3stico\": \"2022-01-23T00:00:00\", \"Casos\": 260}, {\"Fecha de diagn\\u00f3stico\": \"2022-01-24T00:00:00\", \"Casos\": 301}, {\"Fecha de diagn\\u00f3stico\": \"2022-01-25T00:00:00\", \"Casos\": 312}, {\"Fecha de diagn\\u00f3stico\": \"2022-01-26T00:00:00\", \"Casos\": 323}, {\"Fecha de diagn\\u00f3stico\": \"2022-01-27T00:00:00\", \"Casos\": 247}, {\"Fecha de diagn\\u00f3stico\": \"2022-01-28T00:00:00\", \"Casos\": 246}, {\"Fecha de diagn\\u00f3stico\": \"2022-01-29T00:00:00\", \"Casos\": 233}, {\"Fecha de diagn\\u00f3stico\": \"2022-01-30T00:00:00\", \"Casos\": 179}, {\"Fecha de diagn\\u00f3stico\": \"2022-01-31T00:00:00\", \"Casos\": 222}, {\"Fecha de diagn\\u00f3stico\": \"2022-02-01T00:00:00\", \"Casos\": 213}, {\"Fecha de diagn\\u00f3stico\": \"2022-02-02T00:00:00\", \"Casos\": 176}, {\"Fecha de diagn\\u00f3stico\": \"2022-02-03T00:00:00\", \"Casos\": 190}, {\"Fecha de diagn\\u00f3stico\": \"2022-02-04T00:00:00\", \"Casos\": 152}, {\"Fecha de diagn\\u00f3stico\": \"2022-02-05T00:00:00\", \"Casos\": 136}, {\"Fecha de diagn\\u00f3stico\": \"2022-02-06T00:00:00\", \"Casos\": 82}, {\"Fecha de diagn\\u00f3stico\": \"2022-02-07T00:00:00\", \"Casos\": 153}, {\"Fecha de diagn\\u00f3stico\": \"2022-02-08T00:00:00\", \"Casos\": 139}, {\"Fecha de diagn\\u00f3stico\": \"2022-02-09T00:00:00\", \"Casos\": 86}, {\"Fecha de diagn\\u00f3stico\": \"2022-02-10T00:00:00\", \"Casos\": 98}, {\"Fecha de diagn\\u00f3stico\": \"2022-02-11T00:00:00\", \"Casos\": 90}, {\"Fecha de diagn\\u00f3stico\": \"2022-02-12T00:00:00\", \"Casos\": 81}, {\"Fecha de diagn\\u00f3stico\": \"2022-02-13T00:00:00\", \"Casos\": 54}, {\"Fecha de diagn\\u00f3stico\": \"2022-02-14T00:00:00\", \"Casos\": 79}, {\"Fecha de diagn\\u00f3stico\": \"2022-02-15T00:00:00\", \"Casos\": 60}, {\"Fecha de diagn\\u00f3stico\": \"2022-02-16T00:00:00\", \"Casos\": 58}, {\"Fecha de diagn\\u00f3stico\": \"2022-02-17T00:00:00\", \"Casos\": 40}, {\"Fecha de diagn\\u00f3stico\": \"2022-02-18T00:00:00\", \"Casos\": 47}, {\"Fecha de diagn\\u00f3stico\": \"2022-02-19T00:00:00\", \"Casos\": 23}, {\"Fecha de diagn\\u00f3stico\": \"2022-02-20T00:00:00\", \"Casos\": 27}, {\"Fecha de diagn\\u00f3stico\": \"2022-02-21T00:00:00\", \"Casos\": 38}, {\"Fecha de diagn\\u00f3stico\": \"2022-02-22T00:00:00\", \"Casos\": 37}, {\"Fecha de diagn\\u00f3stico\": \"2022-02-23T00:00:00\", \"Casos\": 22}, {\"Fecha de diagn\\u00f3stico\": \"2022-02-24T00:00:00\", \"Casos\": 18}, {\"Fecha de diagn\\u00f3stico\": \"2022-02-25T00:00:00\", \"Casos\": 15}, {\"Fecha de diagn\\u00f3stico\": \"2022-02-26T00:00:00\", \"Casos\": 31}, {\"Fecha de diagn\\u00f3stico\": \"2022-02-27T00:00:00\", \"Casos\": 20}, {\"Fecha de diagn\\u00f3stico\": \"2022-02-28T00:00:00\", \"Casos\": 18}, {\"Fecha de diagn\\u00f3stico\": \"2022-03-01T00:00:00\", \"Casos\": 21}, {\"Fecha de diagn\\u00f3stico\": \"2022-03-02T00:00:00\", \"Casos\": 20}, {\"Fecha de diagn\\u00f3stico\": \"2022-03-03T00:00:00\", \"Casos\": 20}, {\"Fecha de diagn\\u00f3stico\": \"2022-03-04T00:00:00\", \"Casos\": 14}, {\"Fecha de diagn\\u00f3stico\": \"2022-03-05T00:00:00\", \"Casos\": 7}, {\"Fecha de diagn\\u00f3stico\": \"2022-03-06T00:00:00\", \"Casos\": 4}, {\"Fecha de diagn\\u00f3stico\": \"2022-03-07T00:00:00\", \"Casos\": 11}, {\"Fecha de diagn\\u00f3stico\": \"2022-03-08T00:00:00\", \"Casos\": 14}, {\"Fecha de diagn\\u00f3stico\": \"2022-03-09T00:00:00\", \"Casos\": 13}, {\"Fecha de diagn\\u00f3stico\": \"2022-03-10T00:00:00\", \"Casos\": 10}, {\"Fecha de diagn\\u00f3stico\": \"2022-03-11T00:00:00\", \"Casos\": 2}, {\"Fecha de diagn\\u00f3stico\": \"2022-03-12T00:00:00\", \"Casos\": 6}, {\"Fecha de diagn\\u00f3stico\": \"2022-03-13T00:00:00\", \"Casos\": 4}, {\"Fecha de diagn\\u00f3stico\": \"2022-03-14T00:00:00\", \"Casos\": 6}, {\"Fecha de diagn\\u00f3stico\": \"2022-03-15T00:00:00\", \"Casos\": 11}, {\"Fecha de diagn\\u00f3stico\": \"2022-03-16T00:00:00\", \"Casos\": 9}, {\"Fecha de diagn\\u00f3stico\": \"2022-03-17T00:00:00\", \"Casos\": 5}, {\"Fecha de diagn\\u00f3stico\": \"2022-03-18T00:00:00\", \"Casos\": 6}, {\"Fecha de diagn\\u00f3stico\": \"2022-03-19T00:00:00\", \"Casos\": 2}, {\"Fecha de diagn\\u00f3stico\": \"2022-03-20T00:00:00\", \"Casos\": 3}, {\"Fecha de diagn\\u00f3stico\": \"2022-03-21T00:00:00\", \"Casos\": 3}, {\"Fecha de diagn\\u00f3stico\": \"2022-03-22T00:00:00\", \"Casos\": 1}, {\"Fecha de diagn\\u00f3stico\": \"2022-03-23T00:00:00\", \"Casos\": 10}, {\"Fecha de diagn\\u00f3stico\": \"2022-03-24T00:00:00\", \"Casos\": 1}, {\"Fecha de diagn\\u00f3stico\": \"2022-03-25T00:00:00\", \"Casos\": 2}, {\"Fecha de diagn\\u00f3stico\": \"2022-03-26T00:00:00\", \"Casos\": 6}, {\"Fecha de diagn\\u00f3stico\": \"2022-03-27T00:00:00\", \"Casos\": 2}, {\"Fecha de diagn\\u00f3stico\": \"2022-03-28T00:00:00\", \"Casos\": 2}, {\"Fecha de diagn\\u00f3stico\": \"2022-03-29T00:00:00\", \"Casos\": 4}, {\"Fecha de diagn\\u00f3stico\": \"2022-03-30T00:00:00\", \"Casos\": 4}, {\"Fecha de diagn\\u00f3stico\": \"2022-03-31T00:00:00\", \"Casos\": 5}, {\"Fecha de diagn\\u00f3stico\": \"2022-04-02T00:00:00\", \"Casos\": 1}, {\"Fecha de diagn\\u00f3stico\": \"2022-04-03T00:00:00\", \"Casos\": 3}, {\"Fecha de diagn\\u00f3stico\": \"2022-04-04T00:00:00\", \"Casos\": 2}, {\"Fecha de diagn\\u00f3stico\": \"2022-04-05T00:00:00\", \"Casos\": 1}, {\"Fecha de diagn\\u00f3stico\": \"2022-04-06T00:00:00\", \"Casos\": 1}, {\"Fecha de diagn\\u00f3stico\": \"2022-04-07T00:00:00\", \"Casos\": 1}, {\"Fecha de diagn\\u00f3stico\": \"2022-04-08T00:00:00\", \"Casos\": 3}, {\"Fecha de diagn\\u00f3stico\": \"2022-04-09T00:00:00\", \"Casos\": 1}, {\"Fecha de diagn\\u00f3stico\": \"2022-04-10T00:00:00\", \"Casos\": 2}, {\"Fecha de diagn\\u00f3stico\": \"2022-04-11T00:00:00\", \"Casos\": 1}, {\"Fecha de diagn\\u00f3stico\": \"2022-04-12T00:00:00\", \"Casos\": 1}, {\"Fecha de diagn\\u00f3stico\": \"2022-04-13T00:00:00\", \"Casos\": 2}, {\"Fecha de diagn\\u00f3stico\": \"2022-04-17T00:00:00\", \"Casos\": 1}, {\"Fecha de diagn\\u00f3stico\": \"2022-04-18T00:00:00\", \"Casos\": 1}, {\"Fecha de diagn\\u00f3stico\": \"2022-04-19T00:00:00\", \"Casos\": 1}, {\"Fecha de diagn\\u00f3stico\": \"2022-04-20T00:00:00\", \"Casos\": 1}]}}, {\"mode\": \"vega-lite\"});\n",
       "</script>"
      ],
      "text/plain": [
       "alt.LayerChart(...)"
      ]
     },
     "execution_count": 119,
     "metadata": {},
     "output_type": "execute_result"
    }
   ],
   "source": [
    "alt.layer(\n",
    "    covid_cases_chart.mark_line()\n",
    ").interactive()"
   ]
  },
  {
   "cell_type": "markdown",
   "metadata": {},
   "source": [
    "Teniendo en cuenta la cantidad de casos positivos presentados a lo largo del tiempo, se evidencia que la curva de casos ha disminuido sustancialmente, por tanto es posible que la medida restrictiva del uso del tapabocas sea innecesaria dada la cantidad de personas vacunadas, esto sumado a que se ve que la vacuna ha sido efectiva. Asi mismo, la cantidad de personas que han muerto este año por Covid es mucho menor, presentando el ultimo mes cantidades maximas de 3 personas por día. \n",
    "\n",
    "De cualquier forma, tener datos de las personas fallecidas podría ser de utilidad. Esto para verificar si la persona está o no vacunada."
   ]
  },
  {
   "cell_type": "markdown",
   "metadata": {},
   "source": [
    "#### Segunda pregunta\n",
    "\n",
    "¿Existe alguna tendencia entre la cantidad de casos y el sexo?"
   ]
  },
  {
   "cell_type": "code",
   "execution_count": 133,
   "metadata": {},
   "outputs": [],
   "source": [
    "gender_vs_cases = data.loc[: , ['ID de caso','Fecha de diagnóstico', 'Sexo']]"
   ]
  },
  {
   "cell_type": "code",
   "execution_count": 134,
   "metadata": {},
   "outputs": [],
   "source": [
    "gender_vs_cases['Sexo'] = gender_vs_cases['Sexo'].apply(lambda x: x.upper())"
   ]
  },
  {
   "cell_type": "code",
   "execution_count": 135,
   "metadata": {},
   "outputs": [],
   "source": [
    "gender_vs_cases = gender_vs_cases.groupby(by=['Fecha de diagnóstico', 'Sexo']).agg({'ID de caso': 'count'}).rename(\n",
    "    columns={'ID de caso': 'Casos'}).reset_index()"
   ]
  },
  {
   "cell_type": "code",
   "execution_count": 138,
   "metadata": {},
   "outputs": [],
   "source": [
    "cases = alt.Chart(gender_vs_cases).encode(x='Fecha de diagnóstico:T', y='Casos:Q', color='Sexo')"
   ]
  },
  {
   "cell_type": "code",
   "execution_count": 139,
   "metadata": {},
   "outputs": [
    {
     "data": {
      "text/html": [
       "\n",
       "<div id=\"altair-viz-94a9d5926a9f4a69a8fb61e5820ceb3c\"></div>\n",
       "<script type=\"text/javascript\">\n",
       "  var VEGA_DEBUG = (typeof VEGA_DEBUG == \"undefined\") ? {} : VEGA_DEBUG;\n",
       "  (function(spec, embedOpt){\n",
       "    let outputDiv = document.currentScript.previousElementSibling;\n",
       "    if (outputDiv.id !== \"altair-viz-94a9d5926a9f4a69a8fb61e5820ceb3c\") {\n",
       "      outputDiv = document.getElementById(\"altair-viz-94a9d5926a9f4a69a8fb61e5820ceb3c\");\n",
       "    }\n",
       "    const paths = {\n",
       "      \"vega\": \"https://cdn.jsdelivr.net/npm//vega@5?noext\",\n",
       "      \"vega-lib\": \"https://cdn.jsdelivr.net/npm//vega-lib?noext\",\n",
       "      \"vega-lite\": \"https://cdn.jsdelivr.net/npm//vega-lite@4.17.0?noext\",\n",
       "      \"vega-embed\": \"https://cdn.jsdelivr.net/npm//vega-embed@6?noext\",\n",
       "    };\n",
       "\n",
       "    function maybeLoadScript(lib, version) {\n",
       "      var key = `${lib.replace(\"-\", \"\")}_version`;\n",
       "      return (VEGA_DEBUG[key] == version) ?\n",
       "        Promise.resolve(paths[lib]) :\n",
       "        new Promise(function(resolve, reject) {\n",
       "          var s = document.createElement('script');\n",
       "          document.getElementsByTagName(\"head\")[0].appendChild(s);\n",
       "          s.async = true;\n",
       "          s.onload = () => {\n",
       "            VEGA_DEBUG[key] = version;\n",
       "            return resolve(paths[lib]);\n",
       "          };\n",
       "          s.onerror = () => reject(`Error loading script: ${paths[lib]}`);\n",
       "          s.src = paths[lib];\n",
       "        });\n",
       "    }\n",
       "\n",
       "    function showError(err) {\n",
       "      outputDiv.innerHTML = `<div class=\"error\" style=\"color:red;\">${err}</div>`;\n",
       "      throw err;\n",
       "    }\n",
       "\n",
       "    function displayChart(vegaEmbed) {\n",
       "      vegaEmbed(outputDiv, spec, embedOpt)\n",
       "        .catch(err => showError(`Javascript Error: ${err.message}<br>This usually means there's a typo in your chart specification. See the javascript console for the full traceback.`));\n",
       "    }\n",
       "\n",
       "    if(typeof define === \"function\" && define.amd) {\n",
       "      requirejs.config({paths});\n",
       "      require([\"vega-embed\"], displayChart, err => showError(`Error loading script: ${err.message}`));\n",
       "    } else {\n",
       "      maybeLoadScript(\"vega\", \"5\")\n",
       "        .then(() => maybeLoadScript(\"vega-lite\", \"4.17.0\"))\n",
       "        .then(() => maybeLoadScript(\"vega-embed\", \"6\"))\n",
       "        .catch(showError)\n",
       "        .then(() => displayChart(vegaEmbed));\n",
       "    }\n",
       "  })({\"config\": {\"view\": {\"continuousWidth\": 400, \"continuousHeight\": 300}}, \"layer\": [{\"mark\": \"line\", \"encoding\": {\"color\": {\"field\": \"Sexo\", \"type\": \"nominal\"}, \"x\": {\"field\": \"Fecha de diagn\\u00f3stico\", \"type\": \"temporal\"}, \"y\": {\"field\": \"Casos\", \"type\": \"quantitative\"}}, \"selection\": {\"selector008\": {\"type\": \"interval\", \"bind\": \"scales\", \"encodings\": [\"x\", \"y\"]}}}], \"data\": {\"name\": \"data-809b97515cda7109cef760d2c4655f71\"}, \"$schema\": \"https://vega.github.io/schema/vega-lite/v4.17.0.json\", \"datasets\": {\"data-809b97515cda7109cef760d2c4655f71\": [{\"Fecha de diagn\\u00f3stico\": \"2022-01-01T00:00:00\", \"Sexo\": \"F\", \"Casos\": 3625}, {\"Fecha de diagn\\u00f3stico\": \"2022-01-01T00:00:00\", \"Sexo\": \"M\", \"Casos\": 2813}, {\"Fecha de diagn\\u00f3stico\": \"2022-01-02T00:00:00\", \"Sexo\": \"F\", \"Casos\": 4620}, {\"Fecha de diagn\\u00f3stico\": \"2022-01-02T00:00:00\", \"Sexo\": \"M\", \"Casos\": 3613}, {\"Fecha de diagn\\u00f3stico\": \"2022-01-03T00:00:00\", \"Sexo\": \"F\", \"Casos\": 11966}, {\"Fecha de diagn\\u00f3stico\": \"2022-01-03T00:00:00\", \"Sexo\": \"M\", \"Casos\": 9094}, {\"Fecha de diagn\\u00f3stico\": \"2022-01-04T00:00:00\", \"Sexo\": \"F\", \"Casos\": 16288}, {\"Fecha de diagn\\u00f3stico\": \"2022-01-04T00:00:00\", \"Sexo\": \"M\", \"Casos\": 12382}, {\"Fecha de diagn\\u00f3stico\": \"2022-01-05T00:00:00\", \"Sexo\": \"F\", \"Casos\": 20239}, {\"Fecha de diagn\\u00f3stico\": \"2022-01-05T00:00:00\", \"Sexo\": \"M\", \"Casos\": 15156}, {\"Fecha de diagn\\u00f3stico\": \"2022-01-06T00:00:00\", \"Sexo\": \"F\", \"Casos\": 22991}, {\"Fecha de diagn\\u00f3stico\": \"2022-01-06T00:00:00\", \"Sexo\": \"M\", \"Casos\": 17229}, {\"Fecha de diagn\\u00f3stico\": \"2022-01-07T00:00:00\", \"Sexo\": \"F\", \"Casos\": 23799}, {\"Fecha de diagn\\u00f3stico\": \"2022-01-07T00:00:00\", \"Sexo\": \"M\", \"Casos\": 18192}, {\"Fecha de diagn\\u00f3stico\": \"2022-01-08T00:00:00\", \"Sexo\": \"F\", \"Casos\": 18139}, {\"Fecha de diagn\\u00f3stico\": \"2022-01-08T00:00:00\", \"Sexo\": \"M\", \"Casos\": 13856}, {\"Fecha de diagn\\u00f3stico\": \"2022-01-09T00:00:00\", \"Sexo\": \"F\", \"Casos\": 11435}, {\"Fecha de diagn\\u00f3stico\": \"2022-01-09T00:00:00\", \"Sexo\": \"M\", \"Casos\": 8638}, {\"Fecha de diagn\\u00f3stico\": \"2022-01-10T00:00:00\", \"Sexo\": \"F\", \"Casos\": 12689}, {\"Fecha de diagn\\u00f3stico\": \"2022-01-10T00:00:00\", \"Sexo\": \"M\", \"Casos\": 9516}, {\"Fecha de diagn\\u00f3stico\": \"2022-01-11T00:00:00\", \"Sexo\": \"F\", \"Casos\": 19945}, {\"Fecha de diagn\\u00f3stico\": \"2022-01-11T00:00:00\", \"Sexo\": \"M\", \"Casos\": 15326}, {\"Fecha de diagn\\u00f3stico\": \"2022-01-12T00:00:00\", \"Sexo\": \"F\", \"Casos\": 19933}, {\"Fecha de diagn\\u00f3stico\": \"2022-01-12T00:00:00\", \"Sexo\": \"M\", \"Casos\": 15489}, {\"Fecha de diagn\\u00f3stico\": \"2022-01-13T00:00:00\", \"Sexo\": \"F\", \"Casos\": 19845}, {\"Fecha de diagn\\u00f3stico\": \"2022-01-13T00:00:00\", \"Sexo\": \"M\", \"Casos\": 14715}, {\"Fecha de diagn\\u00f3stico\": \"2022-01-14T00:00:00\", \"Sexo\": \"F\", \"Casos\": 18541}, {\"Fecha de diagn\\u00f3stico\": \"2022-01-14T00:00:00\", \"Sexo\": \"M\", \"Casos\": 14131}, {\"Fecha de diagn\\u00f3stico\": \"2022-01-15T00:00:00\", \"Sexo\": \"F\", \"Casos\": 15674}, {\"Fecha de diagn\\u00f3stico\": \"2022-01-15T00:00:00\", \"Sexo\": \"M\", \"Casos\": 11621}, {\"Fecha de diagn\\u00f3stico\": \"2022-01-16T00:00:00\", \"Sexo\": \"F\", \"Casos\": 9715}, {\"Fecha de diagn\\u00f3stico\": \"2022-01-16T00:00:00\", \"Sexo\": \"M\", \"Casos\": 7184}, {\"Fecha de diagn\\u00f3stico\": \"2022-01-17T00:00:00\", \"Sexo\": \"F\", \"Casos\": 14279}, {\"Fecha de diagn\\u00f3stico\": \"2022-01-17T00:00:00\", \"Sexo\": \"M\", \"Casos\": 10999}, {\"Fecha de diagn\\u00f3stico\": \"2022-01-18T00:00:00\", \"Sexo\": \"F\", \"Casos\": 15394}, {\"Fecha de diagn\\u00f3stico\": \"2022-01-18T00:00:00\", \"Sexo\": \"M\", \"Casos\": 11682}, {\"Fecha de diagn\\u00f3stico\": \"2022-01-19T00:00:00\", \"Sexo\": \"F\", \"Casos\": 16808}, {\"Fecha de diagn\\u00f3stico\": \"2022-01-19T00:00:00\", \"Sexo\": \"M\", \"Casos\": 12626}, {\"Fecha de diagn\\u00f3stico\": \"2022-01-20T00:00:00\", \"Sexo\": \"F\", \"Casos\": 17051}, {\"Fecha de diagn\\u00f3stico\": \"2022-01-20T00:00:00\", \"Sexo\": \"M\", \"Casos\": 12635}, {\"Fecha de diagn\\u00f3stico\": \"2022-01-21T00:00:00\", \"Sexo\": \"F\", \"Casos\": 15203}, {\"Fecha de diagn\\u00f3stico\": \"2022-01-21T00:00:00\", \"Sexo\": \"M\", \"Casos\": 11403}, {\"Fecha de diagn\\u00f3stico\": \"2022-01-22T00:00:00\", \"Sexo\": \"F\", \"Casos\": 12099}, {\"Fecha de diagn\\u00f3stico\": \"2022-01-22T00:00:00\", \"Sexo\": \"M\", \"Casos\": 8796}, {\"Fecha de diagn\\u00f3stico\": \"2022-01-23T00:00:00\", \"Sexo\": \"F\", \"Casos\": 7568}, {\"Fecha de diagn\\u00f3stico\": \"2022-01-23T00:00:00\", \"Sexo\": \"M\", \"Casos\": 5482}, {\"Fecha de diagn\\u00f3stico\": \"2022-01-24T00:00:00\", \"Sexo\": \"F\", \"Casos\": 12197}, {\"Fecha de diagn\\u00f3stico\": \"2022-01-24T00:00:00\", \"Sexo\": \"M\", \"Casos\": 9303}, {\"Fecha de diagn\\u00f3stico\": \"2022-01-25T00:00:00\", \"Sexo\": \"F\", \"Casos\": 12029}, {\"Fecha de diagn\\u00f3stico\": \"2022-01-25T00:00:00\", \"Sexo\": \"M\", \"Casos\": 9124}, {\"Fecha de diagn\\u00f3stico\": \"2022-01-26T00:00:00\", \"Sexo\": \"F\", \"Casos\": 12361}, {\"Fecha de diagn\\u00f3stico\": \"2022-01-26T00:00:00\", \"Sexo\": \"M\", \"Casos\": 9100}, {\"Fecha de diagn\\u00f3stico\": \"2022-01-27T00:00:00\", \"Sexo\": \"F\", \"Casos\": 11210}, {\"Fecha de diagn\\u00f3stico\": \"2022-01-27T00:00:00\", \"Sexo\": \"M\", \"Casos\": 8258}, {\"Fecha de diagn\\u00f3stico\": \"2022-01-28T00:00:00\", \"Sexo\": \"F\", \"Casos\": 10488}, {\"Fecha de diagn\\u00f3stico\": \"2022-01-28T00:00:00\", \"Sexo\": \"M\", \"Casos\": 7662}, {\"Fecha de diagn\\u00f3stico\": \"2022-01-29T00:00:00\", \"Sexo\": \"F\", \"Casos\": 7601}, {\"Fecha de diagn\\u00f3stico\": \"2022-01-29T00:00:00\", \"Sexo\": \"M\", \"Casos\": 5795}, {\"Fecha de diagn\\u00f3stico\": \"2022-01-30T00:00:00\", \"Sexo\": \"F\", \"Casos\": 5004}, {\"Fecha de diagn\\u00f3stico\": \"2022-01-30T00:00:00\", \"Sexo\": \"M\", \"Casos\": 3652}, {\"Fecha de diagn\\u00f3stico\": \"2022-01-31T00:00:00\", \"Sexo\": \"F\", \"Casos\": 7177}, {\"Fecha de diagn\\u00f3stico\": \"2022-01-31T00:00:00\", \"Sexo\": \"M\", \"Casos\": 5500}, {\"Fecha de diagn\\u00f3stico\": \"2022-02-01T00:00:00\", \"Sexo\": \"F\", \"Casos\": 7581}, {\"Fecha de diagn\\u00f3stico\": \"2022-02-01T00:00:00\", \"Sexo\": \"M\", \"Casos\": 5699}, {\"Fecha de diagn\\u00f3stico\": \"2022-02-02T00:00:00\", \"Sexo\": \"F\", \"Casos\": 6952}, {\"Fecha de diagn\\u00f3stico\": \"2022-02-02T00:00:00\", \"Sexo\": \"M\", \"Casos\": 5298}, {\"Fecha de diagn\\u00f3stico\": \"2022-02-03T00:00:00\", \"Sexo\": \"F\", \"Casos\": 6466}, {\"Fecha de diagn\\u00f3stico\": \"2022-02-03T00:00:00\", \"Sexo\": \"M\", \"Casos\": 4817}, {\"Fecha de diagn\\u00f3stico\": \"2022-02-04T00:00:00\", \"Sexo\": \"F\", \"Casos\": 5516}, {\"Fecha de diagn\\u00f3stico\": \"2022-02-04T00:00:00\", \"Sexo\": \"M\", \"Casos\": 4283}, {\"Fecha de diagn\\u00f3stico\": \"2022-02-05T00:00:00\", \"Sexo\": \"F\", \"Casos\": 4400}, {\"Fecha de diagn\\u00f3stico\": \"2022-02-05T00:00:00\", \"Sexo\": \"M\", \"Casos\": 3254}, {\"Fecha de diagn\\u00f3stico\": \"2022-02-06T00:00:00\", \"Sexo\": \"F\", \"Casos\": 2458}, {\"Fecha de diagn\\u00f3stico\": \"2022-02-06T00:00:00\", \"Sexo\": \"M\", \"Casos\": 1857}, {\"Fecha de diagn\\u00f3stico\": \"2022-02-07T00:00:00\", \"Sexo\": \"F\", \"Casos\": 3882}, {\"Fecha de diagn\\u00f3stico\": \"2022-02-07T00:00:00\", \"Sexo\": \"M\", \"Casos\": 2885}, {\"Fecha de diagn\\u00f3stico\": \"2022-02-08T00:00:00\", \"Sexo\": \"F\", \"Casos\": 3756}, {\"Fecha de diagn\\u00f3stico\": \"2022-02-08T00:00:00\", \"Sexo\": \"M\", \"Casos\": 2860}, {\"Fecha de diagn\\u00f3stico\": \"2022-02-09T00:00:00\", \"Sexo\": \"F\", \"Casos\": 3333}, {\"Fecha de diagn\\u00f3stico\": \"2022-02-09T00:00:00\", \"Sexo\": \"M\", \"Casos\": 2622}, {\"Fecha de diagn\\u00f3stico\": \"2022-02-10T00:00:00\", \"Sexo\": \"F\", \"Casos\": 3280}, {\"Fecha de diagn\\u00f3stico\": \"2022-02-10T00:00:00\", \"Sexo\": \"M\", \"Casos\": 2506}, {\"Fecha de diagn\\u00f3stico\": \"2022-02-11T00:00:00\", \"Sexo\": \"F\", \"Casos\": 2865}, {\"Fecha de diagn\\u00f3stico\": \"2022-02-11T00:00:00\", \"Sexo\": \"M\", \"Casos\": 2161}, {\"Fecha de diagn\\u00f3stico\": \"2022-02-12T00:00:00\", \"Sexo\": \"F\", \"Casos\": 2307}, {\"Fecha de diagn\\u00f3stico\": \"2022-02-12T00:00:00\", \"Sexo\": \"M\", \"Casos\": 1780}, {\"Fecha de diagn\\u00f3stico\": \"2022-02-13T00:00:00\", \"Sexo\": \"F\", \"Casos\": 1335}, {\"Fecha de diagn\\u00f3stico\": \"2022-02-13T00:00:00\", \"Sexo\": \"M\", \"Casos\": 1072}, {\"Fecha de diagn\\u00f3stico\": \"2022-02-14T00:00:00\", \"Sexo\": \"F\", \"Casos\": 2014}, {\"Fecha de diagn\\u00f3stico\": \"2022-02-14T00:00:00\", \"Sexo\": \"M\", \"Casos\": 1500}, {\"Fecha de diagn\\u00f3stico\": \"2022-02-15T00:00:00\", \"Sexo\": \"F\", \"Casos\": 1987}, {\"Fecha de diagn\\u00f3stico\": \"2022-02-15T00:00:00\", \"Sexo\": \"M\", \"Casos\": 1506}, {\"Fecha de diagn\\u00f3stico\": \"2022-02-16T00:00:00\", \"Sexo\": \"F\", \"Casos\": 2030}, {\"Fecha de diagn\\u00f3stico\": \"2022-02-16T00:00:00\", \"Sexo\": \"M\", \"Casos\": 1586}, {\"Fecha de diagn\\u00f3stico\": \"2022-02-17T00:00:00\", \"Sexo\": \"F\", \"Casos\": 1719}, {\"Fecha de diagn\\u00f3stico\": \"2022-02-17T00:00:00\", \"Sexo\": \"M\", \"Casos\": 1378}, {\"Fecha de diagn\\u00f3stico\": \"2022-02-18T00:00:00\", \"Sexo\": \"F\", \"Casos\": 1527}, {\"Fecha de diagn\\u00f3stico\": \"2022-02-18T00:00:00\", \"Sexo\": \"M\", \"Casos\": 1171}, {\"Fecha de diagn\\u00f3stico\": \"2022-02-19T00:00:00\", \"Sexo\": \"F\", \"Casos\": 1229}, {\"Fecha de diagn\\u00f3stico\": \"2022-02-19T00:00:00\", \"Sexo\": \"M\", \"Casos\": 890}, {\"Fecha de diagn\\u00f3stico\": \"2022-02-20T00:00:00\", \"Sexo\": \"F\", \"Casos\": 706}, {\"Fecha de diagn\\u00f3stico\": \"2022-02-20T00:00:00\", \"Sexo\": \"M\", \"Casos\": 609}, {\"Fecha de diagn\\u00f3stico\": \"2022-02-21T00:00:00\", \"Sexo\": \"F\", \"Casos\": 1011}, {\"Fecha de diagn\\u00f3stico\": \"2022-02-21T00:00:00\", \"Sexo\": \"M\", \"Casos\": 770}, {\"Fecha de diagn\\u00f3stico\": \"2022-02-22T00:00:00\", \"Sexo\": \"F\", \"Casos\": 1030}, {\"Fecha de diagn\\u00f3stico\": \"2022-02-22T00:00:00\", \"Sexo\": \"M\", \"Casos\": 856}, {\"Fecha de diagn\\u00f3stico\": \"2022-02-23T00:00:00\", \"Sexo\": \"F\", \"Casos\": 926}, {\"Fecha de diagn\\u00f3stico\": \"2022-02-23T00:00:00\", \"Sexo\": \"M\", \"Casos\": 740}, {\"Fecha de diagn\\u00f3stico\": \"2022-02-24T00:00:00\", \"Sexo\": \"F\", \"Casos\": 917}, {\"Fecha de diagn\\u00f3stico\": \"2022-02-24T00:00:00\", \"Sexo\": \"M\", \"Casos\": 714}, {\"Fecha de diagn\\u00f3stico\": \"2022-02-25T00:00:00\", \"Sexo\": \"F\", \"Casos\": 835}, {\"Fecha de diagn\\u00f3stico\": \"2022-02-25T00:00:00\", \"Sexo\": \"M\", \"Casos\": 614}, {\"Fecha de diagn\\u00f3stico\": \"2022-02-26T00:00:00\", \"Sexo\": \"F\", \"Casos\": 587}, {\"Fecha de diagn\\u00f3stico\": \"2022-02-26T00:00:00\", \"Sexo\": \"M\", \"Casos\": 528}, {\"Fecha de diagn\\u00f3stico\": \"2022-02-27T00:00:00\", \"Sexo\": \"F\", \"Casos\": 324}, {\"Fecha de diagn\\u00f3stico\": \"2022-02-27T00:00:00\", \"Sexo\": \"M\", \"Casos\": 271}, {\"Fecha de diagn\\u00f3stico\": \"2022-02-28T00:00:00\", \"Sexo\": \"F\", \"Casos\": 464}, {\"Fecha de diagn\\u00f3stico\": \"2022-02-28T00:00:00\", \"Sexo\": \"M\", \"Casos\": 372}, {\"Fecha de diagn\\u00f3stico\": \"2022-03-01T00:00:00\", \"Sexo\": \"F\", \"Casos\": 535}, {\"Fecha de diagn\\u00f3stico\": \"2022-03-01T00:00:00\", \"Sexo\": \"M\", \"Casos\": 465}, {\"Fecha de diagn\\u00f3stico\": \"2022-03-02T00:00:00\", \"Sexo\": \"F\", \"Casos\": 477}, {\"Fecha de diagn\\u00f3stico\": \"2022-03-02T00:00:00\", \"Sexo\": \"M\", \"Casos\": 458}, {\"Fecha de diagn\\u00f3stico\": \"2022-03-03T00:00:00\", \"Sexo\": \"F\", \"Casos\": 498}, {\"Fecha de diagn\\u00f3stico\": \"2022-03-03T00:00:00\", \"Sexo\": \"M\", \"Casos\": 390}, {\"Fecha de diagn\\u00f3stico\": \"2022-03-04T00:00:00\", \"Sexo\": \"F\", \"Casos\": 484}, {\"Fecha de diagn\\u00f3stico\": \"2022-03-04T00:00:00\", \"Sexo\": \"M\", \"Casos\": 403}, {\"Fecha de diagn\\u00f3stico\": \"2022-03-05T00:00:00\", \"Sexo\": \"F\", \"Casos\": 323}, {\"Fecha de diagn\\u00f3stico\": \"2022-03-05T00:00:00\", \"Sexo\": \"M\", \"Casos\": 277}, {\"Fecha de diagn\\u00f3stico\": \"2022-03-06T00:00:00\", \"Sexo\": \"F\", \"Casos\": 220}, {\"Fecha de diagn\\u00f3stico\": \"2022-03-06T00:00:00\", \"Sexo\": \"M\", \"Casos\": 181}, {\"Fecha de diagn\\u00f3stico\": \"2022-03-07T00:00:00\", \"Sexo\": \"F\", \"Casos\": 275}, {\"Fecha de diagn\\u00f3stico\": \"2022-03-07T00:00:00\", \"Sexo\": \"M\", \"Casos\": 249}, {\"Fecha de diagn\\u00f3stico\": \"2022-03-08T00:00:00\", \"Sexo\": \"F\", \"Casos\": 330}, {\"Fecha de diagn\\u00f3stico\": \"2022-03-08T00:00:00\", \"Sexo\": \"M\", \"Casos\": 284}, {\"Fecha de diagn\\u00f3stico\": \"2022-03-09T00:00:00\", \"Sexo\": \"F\", \"Casos\": 291}, {\"Fecha de diagn\\u00f3stico\": \"2022-03-09T00:00:00\", \"Sexo\": \"M\", \"Casos\": 225}, {\"Fecha de diagn\\u00f3stico\": \"2022-03-10T00:00:00\", \"Sexo\": \"F\", \"Casos\": 278}, {\"Fecha de diagn\\u00f3stico\": \"2022-03-10T00:00:00\", \"Sexo\": \"M\", \"Casos\": 260}, {\"Fecha de diagn\\u00f3stico\": \"2022-03-11T00:00:00\", \"Sexo\": \"F\", \"Casos\": 256}, {\"Fecha de diagn\\u00f3stico\": \"2022-03-11T00:00:00\", \"Sexo\": \"M\", \"Casos\": 224}, {\"Fecha de diagn\\u00f3stico\": \"2022-03-12T00:00:00\", \"Sexo\": \"F\", \"Casos\": 217}, {\"Fecha de diagn\\u00f3stico\": \"2022-03-12T00:00:00\", \"Sexo\": \"M\", \"Casos\": 184}, {\"Fecha de diagn\\u00f3stico\": \"2022-03-13T00:00:00\", \"Sexo\": \"F\", \"Casos\": 139}, {\"Fecha de diagn\\u00f3stico\": \"2022-03-13T00:00:00\", \"Sexo\": \"M\", \"Casos\": 121}, {\"Fecha de diagn\\u00f3stico\": \"2022-03-14T00:00:00\", \"Sexo\": \"F\", \"Casos\": 188}, {\"Fecha de diagn\\u00f3stico\": \"2022-03-14T00:00:00\", \"Sexo\": \"M\", \"Casos\": 144}, {\"Fecha de diagn\\u00f3stico\": \"2022-03-15T00:00:00\", \"Sexo\": \"F\", \"Casos\": 232}, {\"Fecha de diagn\\u00f3stico\": \"2022-03-15T00:00:00\", \"Sexo\": \"M\", \"Casos\": 209}, {\"Fecha de diagn\\u00f3stico\": \"2022-03-16T00:00:00\", \"Sexo\": \"F\", \"Casos\": 254}, {\"Fecha de diagn\\u00f3stico\": \"2022-03-16T00:00:00\", \"Sexo\": \"M\", \"Casos\": 164}, {\"Fecha de diagn\\u00f3stico\": \"2022-03-17T00:00:00\", \"Sexo\": \"F\", \"Casos\": 211}, {\"Fecha de diagn\\u00f3stico\": \"2022-03-17T00:00:00\", \"Sexo\": \"M\", \"Casos\": 171}, {\"Fecha de diagn\\u00f3stico\": \"2022-03-18T00:00:00\", \"Sexo\": \"F\", \"Casos\": 207}, {\"Fecha de diagn\\u00f3stico\": \"2022-03-18T00:00:00\", \"Sexo\": \"M\", \"Casos\": 204}, {\"Fecha de diagn\\u00f3stico\": \"2022-03-19T00:00:00\", \"Sexo\": \"F\", \"Casos\": 243}, {\"Fecha de diagn\\u00f3stico\": \"2022-03-19T00:00:00\", \"Sexo\": \"M\", \"Casos\": 172}, {\"Fecha de diagn\\u00f3stico\": \"2022-03-20T00:00:00\", \"Sexo\": \"F\", \"Casos\": 89}, {\"Fecha de diagn\\u00f3stico\": \"2022-03-20T00:00:00\", \"Sexo\": \"M\", \"Casos\": 68}, {\"Fecha de diagn\\u00f3stico\": \"2022-03-21T00:00:00\", \"Sexo\": \"F\", \"Casos\": 80}, {\"Fecha de diagn\\u00f3stico\": \"2022-03-21T00:00:00\", \"Sexo\": \"M\", \"Casos\": 67}, {\"Fecha de diagn\\u00f3stico\": \"2022-03-22T00:00:00\", \"Sexo\": \"F\", \"Casos\": 126}, {\"Fecha de diagn\\u00f3stico\": \"2022-03-22T00:00:00\", \"Sexo\": \"M\", \"Casos\": 127}, {\"Fecha de diagn\\u00f3stico\": \"2022-03-23T00:00:00\", \"Sexo\": \"F\", \"Casos\": 174}, {\"Fecha de diagn\\u00f3stico\": \"2022-03-23T00:00:00\", \"Sexo\": \"M\", \"Casos\": 146}, {\"Fecha de diagn\\u00f3stico\": \"2022-03-24T00:00:00\", \"Sexo\": \"F\", \"Casos\": 172}, {\"Fecha de diagn\\u00f3stico\": \"2022-03-24T00:00:00\", \"Sexo\": \"M\", \"Casos\": 162}, {\"Fecha de diagn\\u00f3stico\": \"2022-03-25T00:00:00\", \"Sexo\": \"F\", \"Casos\": 183}, {\"Fecha de diagn\\u00f3stico\": \"2022-03-25T00:00:00\", \"Sexo\": \"M\", \"Casos\": 154}, {\"Fecha de diagn\\u00f3stico\": \"2022-03-26T00:00:00\", \"Sexo\": \"F\", \"Casos\": 149}, {\"Fecha de diagn\\u00f3stico\": \"2022-03-26T00:00:00\", \"Sexo\": \"M\", \"Casos\": 134}, {\"Fecha de diagn\\u00f3stico\": \"2022-03-27T00:00:00\", \"Sexo\": \"F\", \"Casos\": 115}, {\"Fecha de diagn\\u00f3stico\": \"2022-03-27T00:00:00\", \"Sexo\": \"M\", \"Casos\": 82}, {\"Fecha de diagn\\u00f3stico\": \"2022-03-28T00:00:00\", \"Sexo\": \"F\", \"Casos\": 141}, {\"Fecha de diagn\\u00f3stico\": \"2022-03-28T00:00:00\", \"Sexo\": \"M\", \"Casos\": 115}, {\"Fecha de diagn\\u00f3stico\": \"2022-03-29T00:00:00\", \"Sexo\": \"F\", \"Casos\": 152}, {\"Fecha de diagn\\u00f3stico\": \"2022-03-29T00:00:00\", \"Sexo\": \"M\", \"Casos\": 130}, {\"Fecha de diagn\\u00f3stico\": \"2022-03-30T00:00:00\", \"Sexo\": \"F\", \"Casos\": 170}, {\"Fecha de diagn\\u00f3stico\": \"2022-03-30T00:00:00\", \"Sexo\": \"M\", \"Casos\": 144}, {\"Fecha de diagn\\u00f3stico\": \"2022-03-31T00:00:00\", \"Sexo\": \"F\", \"Casos\": 151}, {\"Fecha de diagn\\u00f3stico\": \"2022-03-31T00:00:00\", \"Sexo\": \"M\", \"Casos\": 132}, {\"Fecha de diagn\\u00f3stico\": \"2022-04-01T00:00:00\", \"Sexo\": \"F\", \"Casos\": 173}, {\"Fecha de diagn\\u00f3stico\": \"2022-04-01T00:00:00\", \"Sexo\": \"M\", \"Casos\": 105}, {\"Fecha de diagn\\u00f3stico\": \"2022-04-02T00:00:00\", \"Sexo\": \"F\", \"Casos\": 129}, {\"Fecha de diagn\\u00f3stico\": \"2022-04-02T00:00:00\", \"Sexo\": \"M\", \"Casos\": 95}, {\"Fecha de diagn\\u00f3stico\": \"2022-04-03T00:00:00\", \"Sexo\": \"F\", \"Casos\": 67}, {\"Fecha de diagn\\u00f3stico\": \"2022-04-03T00:00:00\", \"Sexo\": \"M\", \"Casos\": 60}, {\"Fecha de diagn\\u00f3stico\": \"2022-04-04T00:00:00\", \"Sexo\": \"F\", \"Casos\": 168}, {\"Fecha de diagn\\u00f3stico\": \"2022-04-04T00:00:00\", \"Sexo\": \"M\", \"Casos\": 115}, {\"Fecha de diagn\\u00f3stico\": \"2022-04-05T00:00:00\", \"Sexo\": \"F\", \"Casos\": 109}, {\"Fecha de diagn\\u00f3stico\": \"2022-04-05T00:00:00\", \"Sexo\": \"M\", \"Casos\": 109}, {\"Fecha de diagn\\u00f3stico\": \"2022-04-06T00:00:00\", \"Sexo\": \"F\", \"Casos\": 152}, {\"Fecha de diagn\\u00f3stico\": \"2022-04-06T00:00:00\", \"Sexo\": \"M\", \"Casos\": 132}, {\"Fecha de diagn\\u00f3stico\": \"2022-04-07T00:00:00\", \"Sexo\": \"F\", \"Casos\": 129}, {\"Fecha de diagn\\u00f3stico\": \"2022-04-07T00:00:00\", \"Sexo\": \"M\", \"Casos\": 125}, {\"Fecha de diagn\\u00f3stico\": \"2022-04-08T00:00:00\", \"Sexo\": \"F\", \"Casos\": 143}, {\"Fecha de diagn\\u00f3stico\": \"2022-04-08T00:00:00\", \"Sexo\": \"M\", \"Casos\": 118}, {\"Fecha de diagn\\u00f3stico\": \"2022-04-09T00:00:00\", \"Sexo\": \"F\", \"Casos\": 101}, {\"Fecha de diagn\\u00f3stico\": \"2022-04-09T00:00:00\", \"Sexo\": \"M\", \"Casos\": 92}, {\"Fecha de diagn\\u00f3stico\": \"2022-04-10T00:00:00\", \"Sexo\": \"F\", \"Casos\": 77}, {\"Fecha de diagn\\u00f3stico\": \"2022-04-10T00:00:00\", \"Sexo\": \"M\", \"Casos\": 57}, {\"Fecha de diagn\\u00f3stico\": \"2022-04-11T00:00:00\", \"Sexo\": \"F\", \"Casos\": 103}, {\"Fecha de diagn\\u00f3stico\": \"2022-04-11T00:00:00\", \"Sexo\": \"M\", \"Casos\": 87}, {\"Fecha de diagn\\u00f3stico\": \"2022-04-12T00:00:00\", \"Sexo\": \"F\", \"Casos\": 143}, {\"Fecha de diagn\\u00f3stico\": \"2022-04-12T00:00:00\", \"Sexo\": \"M\", \"Casos\": 103}, {\"Fecha de diagn\\u00f3stico\": \"2022-04-13T00:00:00\", \"Sexo\": \"F\", \"Casos\": 130}, {\"Fecha de diagn\\u00f3stico\": \"2022-04-13T00:00:00\", \"Sexo\": \"M\", \"Casos\": 81}, {\"Fecha de diagn\\u00f3stico\": \"2022-04-14T00:00:00\", \"Sexo\": \"F\", \"Casos\": 58}, {\"Fecha de diagn\\u00f3stico\": \"2022-04-14T00:00:00\", \"Sexo\": \"M\", \"Casos\": 52}, {\"Fecha de diagn\\u00f3stico\": \"2022-04-15T00:00:00\", \"Sexo\": \"F\", \"Casos\": 38}, {\"Fecha de diagn\\u00f3stico\": \"2022-04-15T00:00:00\", \"Sexo\": \"M\", \"Casos\": 40}, {\"Fecha de diagn\\u00f3stico\": \"2022-04-16T00:00:00\", \"Sexo\": \"F\", \"Casos\": 46}, {\"Fecha de diagn\\u00f3stico\": \"2022-04-16T00:00:00\", \"Sexo\": \"M\", \"Casos\": 55}, {\"Fecha de diagn\\u00f3stico\": \"2022-04-17T00:00:00\", \"Sexo\": \"F\", \"Casos\": 63}, {\"Fecha de diagn\\u00f3stico\": \"2022-04-17T00:00:00\", \"Sexo\": \"M\", \"Casos\": 40}, {\"Fecha de diagn\\u00f3stico\": \"2022-04-18T00:00:00\", \"Sexo\": \"F\", \"Casos\": 132}, {\"Fecha de diagn\\u00f3stico\": \"2022-04-18T00:00:00\", \"Sexo\": \"M\", \"Casos\": 80}, {\"Fecha de diagn\\u00f3stico\": \"2022-04-19T00:00:00\", \"Sexo\": \"F\", \"Casos\": 113}, {\"Fecha de diagn\\u00f3stico\": \"2022-04-19T00:00:00\", \"Sexo\": \"M\", \"Casos\": 91}, {\"Fecha de diagn\\u00f3stico\": \"2022-04-20T00:00:00\", \"Sexo\": \"F\", \"Casos\": 126}, {\"Fecha de diagn\\u00f3stico\": \"2022-04-20T00:00:00\", \"Sexo\": \"M\", \"Casos\": 96}, {\"Fecha de diagn\\u00f3stico\": \"2022-04-21T00:00:00\", \"Sexo\": \"F\", \"Casos\": 85}, {\"Fecha de diagn\\u00f3stico\": \"2022-04-21T00:00:00\", \"Sexo\": \"M\", \"Casos\": 42}, {\"Fecha de diagn\\u00f3stico\": \"2022-04-22T00:00:00\", \"Sexo\": \"F\", \"Casos\": 23}, {\"Fecha de diagn\\u00f3stico\": \"2022-04-22T00:00:00\", \"Sexo\": \"M\", \"Casos\": 20}, {\"Fecha de diagn\\u00f3stico\": \"2022-04-23T00:00:00\", \"Sexo\": \"F\", \"Casos\": 2}]}}, {\"mode\": \"vega-lite\"});\n",
       "</script>"
      ],
      "text/plain": [
       "alt.LayerChart(...)"
      ]
     },
     "execution_count": 139,
     "metadata": {},
     "output_type": "execute_result"
    }
   ],
   "source": [
    "alt.layer(\n",
    "    cases.mark_line()\n",
    ").interactive()"
   ]
  },
  {
   "cell_type": "code",
   "execution_count": 155,
   "metadata": {},
   "outputs": [],
   "source": [
    "pivoted_table = gender_vs_cases.pivot('Sexo', 'Fecha de diagnóstico').T"
   ]
  },
  {
   "cell_type": "code",
   "execution_count": 160,
   "metadata": {},
   "outputs": [],
   "source": [
    "relative_diff = (pivoted_table['F'] - pivoted_table['M']) / pivoted_table['F']"
   ]
  },
  {
   "cell_type": "code",
   "execution_count": 163,
   "metadata": {
    "scrolled": true
   },
   "outputs": [
    {
     "data": {
      "text/plain": [
       "20.41867864758715"
      ]
     },
     "execution_count": 163,
     "metadata": {},
     "output_type": "execute_result"
    }
   ],
   "source": [
    "relative_diff.mean() * 100"
   ]
  },
  {
   "cell_type": "markdown",
   "metadata": {},
   "source": [
    "Se ve una tendencia alta al contagio mayor por parte de las mujeres con una diferencia relativa del 20%, lo que significa que de cada 10 contagios, aproximadamente 6 o 7 son mujeres"
   ]
  },
  {
   "cell_type": "markdown",
   "metadata": {},
   "source": [
    "#### Tercera pregunta"
   ]
  },
  {
   "cell_type": "markdown",
   "metadata": {},
   "source": [
    "¿En qué departamentos se presento un numero mayor de casos?"
   ]
  },
  {
   "cell_type": "code",
   "execution_count": 222,
   "metadata": {},
   "outputs": [],
   "source": [
    "data['Nombre departamento'] = data['Nombre departamento'].str.upper()\n",
    "data.loc[data['Nombre departamento'] == 'BOGOTA', 'Nombre departamento'] = 'CUNDINAMARCA'"
   ]
  },
  {
   "cell_type": "code",
   "execution_count": 223,
   "metadata": {},
   "outputs": [],
   "source": [
    "department_cases = data.loc[: ,['ID de caso', 'Nombre departamento']].groupby(by=['Nombre departamento']).count().rename(\n",
    "    columns={'ID de caso': 'Casos'}).reset_index()"
   ]
  },
  {
   "cell_type": "code",
   "execution_count": 224,
   "metadata": {},
   "outputs": [],
   "source": [
    "top_5th_departments = department_cases.sort_values(by='Casos', ascending=False)[:5]"
   ]
  },
  {
   "cell_type": "code",
   "execution_count": 232,
   "metadata": {},
   "outputs": [
    {
     "data": {
      "text/html": [
       "\n",
       "<div id=\"altair-viz-a08b828f9a2c4da8987ae3d6d9bed30e\"></div>\n",
       "<script type=\"text/javascript\">\n",
       "  var VEGA_DEBUG = (typeof VEGA_DEBUG == \"undefined\") ? {} : VEGA_DEBUG;\n",
       "  (function(spec, embedOpt){\n",
       "    let outputDiv = document.currentScript.previousElementSibling;\n",
       "    if (outputDiv.id !== \"altair-viz-a08b828f9a2c4da8987ae3d6d9bed30e\") {\n",
       "      outputDiv = document.getElementById(\"altair-viz-a08b828f9a2c4da8987ae3d6d9bed30e\");\n",
       "    }\n",
       "    const paths = {\n",
       "      \"vega\": \"https://cdn.jsdelivr.net/npm//vega@5?noext\",\n",
       "      \"vega-lib\": \"https://cdn.jsdelivr.net/npm//vega-lib?noext\",\n",
       "      \"vega-lite\": \"https://cdn.jsdelivr.net/npm//vega-lite@4.17.0?noext\",\n",
       "      \"vega-embed\": \"https://cdn.jsdelivr.net/npm//vega-embed@6?noext\",\n",
       "    };\n",
       "\n",
       "    function maybeLoadScript(lib, version) {\n",
       "      var key = `${lib.replace(\"-\", \"\")}_version`;\n",
       "      return (VEGA_DEBUG[key] == version) ?\n",
       "        Promise.resolve(paths[lib]) :\n",
       "        new Promise(function(resolve, reject) {\n",
       "          var s = document.createElement('script');\n",
       "          document.getElementsByTagName(\"head\")[0].appendChild(s);\n",
       "          s.async = true;\n",
       "          s.onload = () => {\n",
       "            VEGA_DEBUG[key] = version;\n",
       "            return resolve(paths[lib]);\n",
       "          };\n",
       "          s.onerror = () => reject(`Error loading script: ${paths[lib]}`);\n",
       "          s.src = paths[lib];\n",
       "        });\n",
       "    }\n",
       "\n",
       "    function showError(err) {\n",
       "      outputDiv.innerHTML = `<div class=\"error\" style=\"color:red;\">${err}</div>`;\n",
       "      throw err;\n",
       "    }\n",
       "\n",
       "    function displayChart(vegaEmbed) {\n",
       "      vegaEmbed(outputDiv, spec, embedOpt)\n",
       "        .catch(err => showError(`Javascript Error: ${err.message}<br>This usually means there's a typo in your chart specification. See the javascript console for the full traceback.`));\n",
       "    }\n",
       "\n",
       "    if(typeof define === \"function\" && define.amd) {\n",
       "      requirejs.config({paths});\n",
       "      require([\"vega-embed\"], displayChart, err => showError(`Error loading script: ${err.message}`));\n",
       "    } else {\n",
       "      maybeLoadScript(\"vega\", \"5\")\n",
       "        .then(() => maybeLoadScript(\"vega-lite\", \"4.17.0\"))\n",
       "        .then(() => maybeLoadScript(\"vega-embed\", \"6\"))\n",
       "        .catch(showError)\n",
       "        .then(() => displayChart(vegaEmbed));\n",
       "    }\n",
       "  })({\"config\": {\"view\": {\"continuousWidth\": 400, \"continuousHeight\": 300}}, \"layer\": [{\"mark\": {\"type\": \"arc\", \"outerRadius\": 130}, \"encoding\": {\"color\": {\"field\": \"Nombre departamento\", \"type\": \"nominal\"}, \"theta\": {\"field\": \"Casos\", \"stack\": true, \"type\": \"quantitative\"}}}, {\"mark\": {\"type\": \"text\", \"radius\": 170, \"size\": 10}, \"encoding\": {\"color\": {\"field\": \"Nombre departamento\", \"type\": \"nominal\"}, \"text\": {\"field\": \"Nombre departamento\", \"type\": \"nominal\"}, \"theta\": {\"field\": \"Casos\", \"stack\": true, \"type\": \"quantitative\"}}}], \"data\": {\"name\": \"data-aee5da3efed5e8d6b1bd9feb5dd62c78\"}, \"$schema\": \"https://vega.github.io/schema/vega-lite/v4.17.0.json\", \"datasets\": {\"data-aee5da3efed5e8d6b1bd9feb5dd62c78\": [{\"Nombre departamento\": \"CUNDINAMARCA\", \"Casos\": 327148}, {\"Nombre departamento\": \"ANTIOQUIA\", \"Casos\": 115585}, {\"Nombre departamento\": \"VALLE\", \"Casos\": 101942}, {\"Nombre departamento\": \"SANTANDER\", \"Casos\": 46198}, {\"Nombre departamento\": \"BARRANQUILLA\", \"Casos\": 42667}]}}, {\"mode\": \"vega-lite\"});\n",
       "</script>"
      ],
      "text/plain": [
       "alt.LayerChart(...)"
      ]
     },
     "execution_count": 232,
     "metadata": {},
     "output_type": "execute_result"
    }
   ],
   "source": [
    "base = alt.Chart(top_5th_departments).encode(\n",
    "    theta=alt.Theta(\"Casos:Q\", stack=True), color=alt.Color(\"Nombre departamento:N\")\n",
    ")\n",
    "\n",
    "pie = base.mark_arc(outerRadius=130)\n",
    "text = base.mark_text(radius=170, size=10).encode(text=\"Nombre departamento:N\")\n",
    "\n",
    "pie + text"
   ]
  },
  {
   "cell_type": "code",
   "execution_count": 237,
   "metadata": {},
   "outputs": [],
   "source": [
    "department_population = pd.DataFrame([\n",
    "    {\n",
    "        'Nombre departamento': 'ANTIOQUIA',\n",
    "        'Poblacion': 6407000\n",
    "    }, \n",
    "    {\n",
    "        'Nombre departamento': 'BARRANQUILLA',\n",
    "        'Poblacion': 1206000\n",
    "    }, \n",
    "    {\n",
    "        'Nombre departamento': 'CUNDINAMARCA',\n",
    "        'Poblacion': 2919000\n",
    "    }, \n",
    "    {\n",
    "        'Nombre departamento': 'SANTANDER',\n",
    "        'Poblacion': 2185000\n",
    "    }, \n",
    "    {\n",
    "        'Nombre departamento': 'VALLE',\n",
    "        'Poblacion': 4476000\n",
    "    }, \n",
    "])"
   ]
  },
  {
   "cell_type": "code",
   "execution_count": 241,
   "metadata": {},
   "outputs": [
    {
     "data": {
      "text/plain": [
       "15    CUNDINAMARCA\n",
       "1        ANTIOQUIA\n",
       "32           VALLE\n",
       "28       SANTANDER\n",
       "4     BARRANQUILLA\n",
       "Name: Nombre departamento, dtype: object"
      ]
     },
     "execution_count": 241,
     "metadata": {},
     "output_type": "execute_result"
    }
   ],
   "source": [
    "top_5th_departments['Nombre departamento']"
   ]
  },
  {
   "cell_type": "code",
   "execution_count": 243,
   "metadata": {},
   "outputs": [],
   "source": [
    "top_5th_departments_normalized = top_5th_departments.merge(department_population, on='Nombre departamento')"
   ]
  },
  {
   "cell_type": "code",
   "execution_count": 247,
   "metadata": {},
   "outputs": [],
   "source": [
    "top_5th_departments_normalized['Casos normalizados'] = top_5th_departments_normalized['Casos'] / top_5th_departments_normalized['Poblacion']"
   ]
  },
  {
   "cell_type": "code",
   "execution_count": 248,
   "metadata": {},
   "outputs": [
    {
     "data": {
      "text/html": [
       "\n",
       "<div id=\"altair-viz-341c0b5b97194fce9c05539759409584\"></div>\n",
       "<script type=\"text/javascript\">\n",
       "  var VEGA_DEBUG = (typeof VEGA_DEBUG == \"undefined\") ? {} : VEGA_DEBUG;\n",
       "  (function(spec, embedOpt){\n",
       "    let outputDiv = document.currentScript.previousElementSibling;\n",
       "    if (outputDiv.id !== \"altair-viz-341c0b5b97194fce9c05539759409584\") {\n",
       "      outputDiv = document.getElementById(\"altair-viz-341c0b5b97194fce9c05539759409584\");\n",
       "    }\n",
       "    const paths = {\n",
       "      \"vega\": \"https://cdn.jsdelivr.net/npm//vega@5?noext\",\n",
       "      \"vega-lib\": \"https://cdn.jsdelivr.net/npm//vega-lib?noext\",\n",
       "      \"vega-lite\": \"https://cdn.jsdelivr.net/npm//vega-lite@4.17.0?noext\",\n",
       "      \"vega-embed\": \"https://cdn.jsdelivr.net/npm//vega-embed@6?noext\",\n",
       "    };\n",
       "\n",
       "    function maybeLoadScript(lib, version) {\n",
       "      var key = `${lib.replace(\"-\", \"\")}_version`;\n",
       "      return (VEGA_DEBUG[key] == version) ?\n",
       "        Promise.resolve(paths[lib]) :\n",
       "        new Promise(function(resolve, reject) {\n",
       "          var s = document.createElement('script');\n",
       "          document.getElementsByTagName(\"head\")[0].appendChild(s);\n",
       "          s.async = true;\n",
       "          s.onload = () => {\n",
       "            VEGA_DEBUG[key] = version;\n",
       "            return resolve(paths[lib]);\n",
       "          };\n",
       "          s.onerror = () => reject(`Error loading script: ${paths[lib]}`);\n",
       "          s.src = paths[lib];\n",
       "        });\n",
       "    }\n",
       "\n",
       "    function showError(err) {\n",
       "      outputDiv.innerHTML = `<div class=\"error\" style=\"color:red;\">${err}</div>`;\n",
       "      throw err;\n",
       "    }\n",
       "\n",
       "    function displayChart(vegaEmbed) {\n",
       "      vegaEmbed(outputDiv, spec, embedOpt)\n",
       "        .catch(err => showError(`Javascript Error: ${err.message}<br>This usually means there's a typo in your chart specification. See the javascript console for the full traceback.`));\n",
       "    }\n",
       "\n",
       "    if(typeof define === \"function\" && define.amd) {\n",
       "      requirejs.config({paths});\n",
       "      require([\"vega-embed\"], displayChart, err => showError(`Error loading script: ${err.message}`));\n",
       "    } else {\n",
       "      maybeLoadScript(\"vega\", \"5\")\n",
       "        .then(() => maybeLoadScript(\"vega-lite\", \"4.17.0\"))\n",
       "        .then(() => maybeLoadScript(\"vega-embed\", \"6\"))\n",
       "        .catch(showError)\n",
       "        .then(() => displayChart(vegaEmbed));\n",
       "    }\n",
       "  })({\"config\": {\"view\": {\"continuousWidth\": 400, \"continuousHeight\": 300}}, \"layer\": [{\"mark\": {\"type\": \"arc\", \"outerRadius\": 130}, \"encoding\": {\"color\": {\"field\": \"Nombre departamento\", \"type\": \"nominal\"}, \"theta\": {\"field\": \"Casos normalizados\", \"stack\": true, \"type\": \"quantitative\"}}}, {\"mark\": {\"type\": \"text\", \"radius\": 170, \"size\": 10}, \"encoding\": {\"color\": {\"field\": \"Nombre departamento\", \"type\": \"nominal\"}, \"text\": {\"field\": \"Nombre departamento\", \"type\": \"nominal\"}, \"theta\": {\"field\": \"Casos normalizados\", \"stack\": true, \"type\": \"quantitative\"}}}], \"data\": {\"name\": \"data-7afd29da91a24b01deeeac4fc3e21e6a\"}, \"$schema\": \"https://vega.github.io/schema/vega-lite/v4.17.0.json\", \"datasets\": {\"data-7afd29da91a24b01deeeac4fc3e21e6a\": [{\"Nombre departamento\": \"CUNDINAMARCA\", \"Casos\": 327148, \"Poblacion\": 2919000, \"Casos normalizados\": 0.11207536827680713}, {\"Nombre departamento\": \"ANTIOQUIA\", \"Casos\": 115585, \"Poblacion\": 6407000, \"Casos normalizados\": 0.018040424535664117}, {\"Nombre departamento\": \"VALLE\", \"Casos\": 101942, \"Poblacion\": 4476000, \"Casos normalizados\": 0.022775245755138517}, {\"Nombre departamento\": \"SANTANDER\", \"Casos\": 46198, \"Poblacion\": 2185000, \"Casos normalizados\": 0.02114324942791762}, {\"Nombre departamento\": \"BARRANQUILLA\", \"Casos\": 42667, \"Poblacion\": 1206000, \"Casos normalizados\": 0.03537893864013267}]}}, {\"mode\": \"vega-lite\"});\n",
       "</script>"
      ],
      "text/plain": [
       "alt.LayerChart(...)"
      ]
     },
     "execution_count": 248,
     "metadata": {},
     "output_type": "execute_result"
    }
   ],
   "source": [
    "base = alt.Chart(top_5th_departments_normalized).encode(\n",
    "    theta=alt.Theta(\"Casos normalizados:Q\", stack=True), color=alt.Color(\"Nombre departamento:N\")\n",
    ")\n",
    "\n",
    "pie = base.mark_arc(outerRadius=130)\n",
    "text = base.mark_text(radius=170, size=10).encode(text=\"Nombre departamento:N\")\n",
    "\n",
    "pie + text"
   ]
  },
  {
   "cell_type": "markdown",
   "metadata": {},
   "source": [
    "Se concluye que cundinamarca es el departamento con más casos"
   ]
  }
 ],
 "metadata": {
  "kernelspec": {
   "display_name": "Python 3 (ipykernel)",
   "language": "python",
   "name": "python3"
  },
  "language_info": {
   "codemirror_mode": {
    "name": "ipython",
    "version": 3
   },
   "file_extension": ".py",
   "mimetype": "text/x-python",
   "name": "python",
   "nbconvert_exporter": "python",
   "pygments_lexer": "ipython3",
   "version": "3.8.10"
  }
 },
 "nbformat": 4,
 "nbformat_minor": 1
}